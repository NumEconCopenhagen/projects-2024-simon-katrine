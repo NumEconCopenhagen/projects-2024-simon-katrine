{
 "cells": [
  {
   "cell_type": "markdown",
   "metadata": {},
   "source": [
    "# The Green Solow Model "
   ]
  },
  {
   "attachments": {},
   "cell_type": "markdown",
   "metadata": {},
   "source": [
    "> **Note the following:** \n",
    "> 1. This is *not* meant to be an example of an actual **model analysis project**, just an example of how to structure such a project.\n",
    "> 1. Remember the general advice on structuring and commenting your code\n",
    "> 1. The `modelproject.py` file includes a function which could be used multiple times in this notebook."
   ]
  },
  {
   "cell_type": "markdown",
   "metadata": {},
   "source": [
    "Imports and set magics:"
   ]
  },
  {
   "cell_type": "code",
   "execution_count": 1,
   "metadata": {},
   "outputs": [],
   "source": [
    "import numpy as np\n",
    "from scipy import optimize\n",
    "import sympy as sm\n",
    "\n",
    "# autoreload modules when code is run\n",
    "%load_ext autoreload\n",
    "%autoreload 2\n",
    "\n",
    "# local modules\n",
    "import modelproject"
   ]
  },
  {
   "cell_type": "markdown",
   "metadata": {},
   "source": [
    "# Model description"
   ]
  },
  {
   "cell_type": "markdown",
   "metadata": {},
   "source": [
    "**Write out the model in equations here.** \n",
    "\n",
    "Make sure you explain well the purpose of the model and comment so that other students who may not have seen it before can follow.  "
   ]
  },
  {
   "cell_type": "markdown",
   "metadata": {},
   "source": [
    "Consider the **standard Solow-model** where:\n",
    "\n",
    "1. $K_t$ is capital2\n",
    "2. $L_t$ is labor (growing with a constant rate of $n$)\n",
    "3. $A_t$ is technology (growing with a constant rate of $g$)\n",
    "4. $Y_t = F(K_t,A_tL_t)$ is GDP\n",
    "\n",
    "**Saving** is a constant fraction of GDP\n",
    "\n",
    "$$ \n",
    "S_t = sY_t,\\,s\\in(0,1)\n",
    "$$\n",
    "\n",
    "such that **capital accumulates** according to\n",
    "\n",
    "$$\n",
    "K_{t+1}=S_{t}+(1-\\delta)K_{t}=sF(K_{t},A_{t}L_{t})+(1-\\delta)K_{t}, \\delta \\in (0,1)\n",
    "$$\n",
    "\n",
    "The **production function** has **constant-return to scale** such that\n",
    "\n",
    "$$\n",
    "\\frac{Y_{t}}{A_{t}L_{t}}=\\frac{F(K_{t},A_{t}L_{t})}{A_{t}L_{t}}=F(\\tilde{k}_{t},1)\\equiv f(\\tilde{k}_{t})\n",
    "$$\n",
    "\n",
    "where $\\tilde{k}_t = \\frac{K_t}{A_{t}L_{t}}$ is the technology adjusted capital-labor ratio.\n",
    "\n",
    "The **transition equation** then becomes\n",
    "\n",
    "$$\n",
    "\\tilde{k}_{t+1}= \\frac{1}{(1+n)(1+g)}[sf(\\tilde{k}_{t})+(1-\\delta)\\tilde{k}_{t}]\n",
    "$$\n",
    "\n",
    "If the **production function** is **Cobb-Douglas** then\n",
    "\n",
    "$$\n",
    "F(K_{t},A_{t}L_{t})=K_{t}^{\\alpha}(A_{t}L_{t})^{1-\\alpha}\\Rightarrow f(\\tilde{k}_{t})=\\tilde{k}_{t}^{\\alpha}\n",
    "$$\n",
    "\n",
    "If it is **CES** (with $\\beta < 1, \\beta \\neq 0$) then\n",
    "\n",
    "$$\n",
    "F(K_{t},A_{t}L_{t})=(\\alpha K_{t}^{\\beta}+(1-\\alpha)(A_{t}L_{t})^{\\beta})^{\\frac{1}{\\beta}}\\Rightarrow f(\\tilde{k}_{t})=(\\alpha\\tilde{k}_{t}^{\\beta}+(1-\\alpha))^{\\frac{1}{\\beta}}\n",
    "$$"
   ]
  },
  {
   "cell_type": "markdown",
   "metadata": {},
   "source": [
    "## Analytical solution"
   ]
  },
  {
   "cell_type": "markdown",
   "metadata": {},
   "source": [
    "If your model allows for an analytical solution, you should provide here.\n",
    "\n",
    "You may use Sympy for this. Then you can characterize the solution as a function of a parameter of the model.\n",
    "\n",
    "To characterize the solution, first derive a steady state equation as a function of a parameter using Sympy.solve and then turn it into a python function by Sympy.lambdify. See the lecture notes for details. "
   ]
  },
  {
   "cell_type": "markdown",
   "metadata": {},
   "source": [
    "## Numerical solution"
   ]
  },
  {
   "cell_type": "markdown",
   "metadata": {},
   "source": [
    "You can always solve a model numerically. \n",
    "\n",
    "Define first the set of parameters you need. \n",
    "\n",
    "Then choose one of the optimization algorithms that we have gone through in the lectures based on what you think is most fitting for your model.\n",
    "\n",
    "Are there any problems with convergence? Does the model converge for all starting values? Make a lot of testing to figure these things out. "
   ]
  },
  {
   "cell_type": "markdown",
   "metadata": {},
   "source": [
    "# Further analysis"
   ]
  },
  {
   "cell_type": "markdown",
   "metadata": {},
   "source": [
    "Make detailed vizualizations of how your model changes with parameter values. \n",
    "\n",
    "Try to make an extension of the model. "
   ]
  },
  {
   "cell_type": "markdown",
   "metadata": {},
   "source": [
    "# Conclusion"
   ]
  },
  {
   "cell_type": "markdown",
   "metadata": {},
   "source": [
    "Add concise conclusion. "
   ]
  }
 ],
 "metadata": {
  "kernelspec": {
   "display_name": "base",
   "language": "python",
   "name": "python3"
  },
  "language_info": {
   "codemirror_mode": {
    "name": "ipython",
    "version": 3
   },
   "file_extension": ".py",
   "mimetype": "text/x-python",
   "name": "python",
   "nbconvert_exporter": "python",
   "pygments_lexer": "ipython3",
   "version": "3.9.10"
  },
  "toc-autonumbering": true,
  "vscode": {
   "interpreter": {
    "hash": "47ef90cdf3004d3f859f1fb202523c65c07ba7c22eefd261b181f4744e2d0403"
   }
  }
 },
 "nbformat": 4,
 "nbformat_minor": 4
}
