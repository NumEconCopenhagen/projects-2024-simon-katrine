{
 "cells": [
  {
   "cell_type": "markdown",
   "metadata": {},
   "source": [
    "# The Solow Model with productive externalities"
   ]
  },
  {
   "cell_type": "markdown",
   "metadata": {},
   "source": [
    "Imports and set magics:"
   ]
  },
  {
   "cell_type": "code",
   "execution_count": 2,
   "metadata": {},
   "outputs": [],
   "source": [
    "import numpy as np\n",
    "from scipy import optimize\n",
    "from scipy.optimize import fsolve\n",
    "import sympy as sm\n",
    "import matplotlib.pyplot as plt\n",
    "import plotly.graph_objs as go\n",
    "from ipywidgets import interact, FloatSlider\n",
    "import pandas as pd  # Import pandas library\n",
    "\n",
    "# autoreload modules when code is run\n",
    "%load_ext autoreload\n",
    "%autoreload 2\n",
    "\n",
    "# local modules\n",
    "import modelproject\n",
    "\n",
    "# Import our class\n",
    "from modelproject import modelprojectclass\n",
    "\n",
    "# We now define our model \n",
    "model = modelprojectclass()\n",
    "\n",
    "par = model.par"
   ]
  },
  {
   "cell_type": "markdown",
   "metadata": {},
   "source": [
    "# Model description"
   ]
  },
  {
   "cell_type": "markdown",
   "metadata": {},
   "source": [
    "The model is described as:\n",
    "\n",
    "1. $K_t$ is capital\n",
    "2. $L_t$ is labor (growing with a constant rate of $n$)\n",
    "3. $A_t$ is technology (growing with a constant rate of $g$)\n",
    "4. $Y_t = F(K_t,A_tL_t)$ is GDP\n",
    "\n",
    "**GDP** is given as\n",
    "$$ \n",
    "Y_t = K_t^\\alpha(A_t L_t)^{1-\\alpha}, \\alpha > 0\n",
    "$$\n",
    "\n",
    "The **production function** has **constant-return to scale**\n",
    "\n",
    "**Saving** is a constant fraction of GDP\n",
    "$$ \n",
    "S_t = sY_t,\\,s\\in(0,1)\n",
    "$$\n",
    "\n",
    "such that **capital accumulates** according to\n",
    "\n",
    "$$\n",
    "K_{t+1}=S_{t}+(1-\\delta)K_{t}, \\delta\\in(0,1)\n",
    "$$\n",
    "\n",
    "**Labor** is assumed to be the whole population\n",
    "$$\n",
    "L_{t+1}=(1 + n) L_t, n \\geq 0\n",
    "$$\n",
    "\n",
    "**Technology** is described as\n",
    "$$\n",
    "A_{t+1}= K_t^\\phi, \\phi > 0\n",
    "$$\n",
    "\n",
    "The **techonology** function is what distinguish this model from a normal Solow Model, since this function assumes productive externalities from capital.\n",
    "\n"
   ]
  },
  {
   "cell_type": "markdown",
   "metadata": {},
   "source": [
    "## The Steady State"
   ]
  },
  {
   "cell_type": "markdown",
   "metadata": {},
   "source": [
    "As mentioned previosly, if $\\phi = 0$, then the model above is just the basic Solow model. We will therefore assume $\\phi < 1$, and there will therefore be diminishing return to capital alone. This means that $A_t$ is not growing at an exogenous rate, but instead it is enodgenous and depends on $K_t$ and how it evolves. \n",
    "\n",
    "We want to find the steady state function, we therefore use **sympy** to find an analytical expression for the steady state, i.e. we solve the transition equation for $k_t$ (where $k_t = \\frac{K_t} {A_t L_t}$):\n",
    "$$\n",
    "k_{t+1} = \\frac{1}{(1+n)} k_t[sk_{t}^{\\alpha-1}+(1-\\delta)]^{1-\\phi}\n",
    "$$\n",
    "\n",
    "The small letters represents per effective worker. \n",
    "\n",
    "Since we have assumed that $\\phi < 1$ the equation above is well defined and positive. Also notice that if $\\phi = 0$ we will get something equivalent to the transition equation of the basic Solow Model."
   ]
  },
  {
   "cell_type": "code",
   "execution_count": 3,
   "metadata": {},
   "outputs": [],
   "source": [
    "# We start out by defining the symbols\n",
    "alpha = sm.symbols('alpha')\n",
    "delta = sm.symbols('delta')\n",
    "phi = sm.symbols('phi')\n",
    "s = sm.symbols('s')\n",
    "n = sm.symbols('n')\n",
    "k = sm.symbols('k')"
   ]
  },
  {
   "cell_type": "code",
   "execution_count": 4,
   "metadata": {},
   "outputs": [
    {
     "data": {
      "text/latex": [
       "$\\displaystyle \\left(\\frac{\\delta - 1 + \\left(n + 1\\right)^{- \\frac{1}{\\phi - 1}}}{s}\\right)^{\\frac{1}{\\alpha - 1}}$"
      ],
      "text/plain": [
       "((delta - 1 + (n + 1)**(-1/(phi - 1)))/s)**(1/(alpha - 1))"
      ]
     },
     "execution_count": 4,
     "metadata": {},
     "output_type": "execute_result"
    }
   ],
   "source": [
    "# In order to find an analytical expression for the steady state, we need to solve for k in the transition equation\n",
    "ss = sm.Eq(k, (1/(1+n))*k*(s*k**(alpha-1)+(1-delta))**(1-phi))\n",
    "\n",
    "# We solve ss for k and the print the steady state function\n",
    "kss = sm.solve(ss,k)[1]\n",
    "kss"
   ]
  },
  {
   "cell_type": "code",
   "execution_count": 5,
   "metadata": {},
   "outputs": [
    {
     "name": "stdout",
     "output_type": "stream",
     "text": [
      "  Parameter  Value\n",
      "0         s   0.30\n",
      "1         n   0.02\n",
      "2     delta   0.05\n",
      "3     alpha   0.33\n",
      "4       phi   0.50\n"
     ]
    }
   ],
   "source": [
    "# Since we want to find a numerical steady state we simulate with these parameter values\n",
    "paramter_values = {'Parameter': [\"s\", \"n\", \"delta\", \"alpha\", \"phi\"],'Value': [par.s, par.n, par.delta, par.alpha, par.phi]}\n",
    "df = pd.DataFrame(paramter_values)\n",
    "print(df)"
   ]
  },
  {
   "cell_type": "code",
   "execution_count": 6,
   "metadata": {},
   "outputs": [
    {
     "name": "stdout",
     "output_type": "stream",
     "text": [
      "The steady state, k* =  5.991582294300367\n"
     ]
    }
   ],
   "source": [
    "# We turn the solution into a python function\n",
    "ss_func = sm.lambdify((s,n,delta,alpha,phi),kss)\n",
    "\n",
    "# We assign values for the parameters and print the numerical steady state value for k, given the parameters\n",
    "print('The steady state, k* = ',ss_func(par.s,par.n,par.delta,par.alpha,par.phi))"
   ]
  },
  {
   "cell_type": "markdown",
   "metadata": {},
   "source": [
    "We can also show the steady state in a transition diagram, where the steady state will be the intersection between a 45 degree line and the transition line."
   ]
  },
  {
   "cell_type": "code",
   "execution_count": 7,
   "metadata": {},
   "outputs": [
    {
     "data": {
      "image/png": "[encoded data removed]",
      "text/plain": [
       "<Figure size 640x480 with 1 Axes>"
      ]
     },
     "metadata": {},
     "output_type": "display_data"
    }
   ],
   "source": [
    "# Define the transition equation\n",
    "def transition_equation(k, s, alpha, delta, n, phi):\n",
    "    return (1/(1+n))*k*(s*k**(alpha-1)+(1-delta))**(1-phi)\n",
    "\n",
    "# Define the 45-degree line\n",
    "def forty_five_degree_line(k):\n",
    "    return k\n",
    "\n",
    "# Define the function to find the intersection point\n",
    "def find_intersection(s, alpha, delta, n, phi):\n",
    "    intersection_func = lambda k: transition_equation(k, s, alpha, delta, n, phi) - forty_five_degree_line(k)\n",
    "    k_intersect = fsolve(intersection_func, 5)  # Starting guess for k\n",
    "    investment_intersect = transition_equation(k_intersect, s, alpha, delta, n, phi)\n",
    "    return k_intersect[0], investment_intersect[0]\n",
    "\n",
    "# Generate a range of k values\n",
    "k_values = np.linspace(1, 10, 100)\n",
    "\n",
    "# Calculate corresponding values for the transition equation and 45-degree line\n",
    "transition_values = transition_equation(k_values, par.s, par.alpha, par.delta, par.n, par.phi)\n",
    "forty_five_degree_values = forty_five_degree_line(k_values)\n",
    "\n",
    "# Find the intersection point\n",
    "k_intersect, investment_intersect = find_intersection(par.s, par.alpha, par.delta, par.n, par.phi)\n",
    "\n",
    "# Plotting\n",
    "plt.plot(k_values, transition_values, label='Transition Equation', color='blue')\n",
    "plt.plot(k_values, forty_five_degree_values, label='45-degree Line', linestyle='--', color='red')\n",
    "plt.scatter(k_intersect, investment_intersect, color='black', label='Steady State')\n",
    "\n",
    "plt.title('Transition Equation vs. 45-degree Line')\n",
    "plt.xlabel('Capital ($k_t$)')\n",
    "plt.ylabel('Capital in the next period ($k_t+1$)')\n",
    "plt.legend()\n",
    "plt.grid(True)\n",
    "plt.show()"
   ]
  },
  {
   "cell_type": "markdown",
   "metadata": {},
   "source": [
    "In this graph, we can see that the transition line crosses the 45-degree line. At this point, we find the steady-state value for the given parameters, meaning capital will not increase per effective worker. The reason for this is the depreciation of capital. As the level of capital increases, a higher numerical value of capital will be destroyed."
   ]
  },
  {
   "cell_type": "markdown",
   "metadata": {},
   "source": [
    "## Parameter calibrations"
   ]
  },
  {
   "cell_type": "markdown",
   "metadata": {},
   "source": [
    "We would now like to look at how the model is affected by the different parameters, in order to see how sensitive the model is for value changes (in case of wrongly calibrate parameter values). "
   ]
  },
  {
   "cell_type": "code",
   "execution_count": 8,
   "metadata": {},
   "outputs": [
    {
     "data": {
      "image/png": "[encoded data removed]",
      "text/plain": [
       "<Figure size 640x480 with 1 Axes>"
      ]
     },
     "metadata": {},
     "output_type": "display_data"
    }
   ],
   "source": [
    "# We create a list for different values of n, so we can see how it effects the steady state\n",
    "n_values = [0, 0.01, 0.02, 0.03, 0.04, 0.05]\n",
    "\n",
    "# Create a empty list for the steady states \n",
    "steady_states = []\n",
    "\n",
    "# Calculate steady state for each n value\n",
    "for n in n_values:\n",
    "    obj_kss = lambda k: k - transition_equation(k, par.s, par.alpha, par.delta, n, par.phi)\n",
    "    result = optimize.root_scalar(obj_kss, bracket=[0.1, 100], method='brentq')\n",
    "    steady_states.append(result.root)\n",
    "\n",
    "# Plotting\n",
    "plt.plot(n_values, steady_states, marker='o')\n",
    "plt.title('Steady State Values for different population growth rates')\n",
    "plt.xlabel('Values of population growth rates')\n",
    "plt.ylabel('Steady State Value of k')\n",
    "plt.grid(True)\n",
    "plt.show()"
   ]
  },
  {
   "cell_type": "markdown",
   "metadata": {},
   "source": [
    "In this graph we can see the steady state value of k becomes smaller when there is more population growth. This is because of thinning of capital, since more workers are splitting the capital. "
   ]
  },
  {
   "cell_type": "code",
   "execution_count": 9,
   "metadata": {},
   "outputs": [
    {
     "data": {
      "image/png": "[encoded data removed]",
      "text/plain": [
       "<Figure size 640x480 with 1 Axes>"
      ]
     },
     "metadata": {},
     "output_type": "display_data"
    }
   ],
   "source": [
    "# We create a list for different values of s, so we can see how it effects the steady state\n",
    "s_values = [0.2, 0.25, 0.3, 0.35, 0.4, 0.45]\n",
    "\n",
    "# Create a empty list for the steady states \n",
    "steady_states = []\n",
    "\n",
    "# Calculate steady state for each n value\n",
    "for s in s_values:\n",
    "    obj_kss = lambda k: k - transition_equation(k, s, par.alpha, par.delta, par.n, par.phi)\n",
    "    result = optimize.root_scalar(obj_kss, bracket=[0.1, 100], method='brentq')\n",
    "    steady_states.append(result.root)\n",
    "\n",
    "# Plotting\n",
    "plt.plot(s_values, steady_states, marker='o')\n",
    "plt.title('Steady State Values for different saving rates')\n",
    "plt.xlabel('Values of saving rates')\n",
    "plt.ylabel('Steady State Value of k')\n",
    "plt.grid(True)\n",
    "plt.show()"
   ]
  },
  {
   "cell_type": "markdown",
   "metadata": {},
   "source": [
    "In this graph we see the values for saving rates and the steady state for capital. We can see when saving rates grows the capital also goes up. In this model we are in a closed-economy which means savings = capital and therefore the result is not surprising."
   ]
  },
  {
   "cell_type": "code",
   "execution_count": 10,
   "metadata": {},
   "outputs": [
    {
     "data": {
      "image/png": "[encoded data removed]",
      "text/plain": [
       "<Figure size 640x480 with 1 Axes>"
      ]
     },
     "metadata": {},
     "output_type": "display_data"
    }
   ],
   "source": [
    "# We create a list for different values of delta, so we can see how it effects the steady state\n",
    "delta_values = [0.03, 0.04, 0.05, 0.06, 0.07, 0.08]\n",
    "\n",
    "# Create a empty list for the steady states \n",
    "steady_states = []\n",
    "\n",
    "# Calculate steady state for each n value\n",
    "for delta in delta_values:\n",
    "    obj_kss = lambda k: k - transition_equation(k, par.s, par.alpha, delta, par.n, par.phi)\n",
    "    result = optimize.root_scalar(obj_kss, bracket=[0.1, 100], method='brentq')\n",
    "    steady_states.append(result.root)\n",
    "\n",
    "# Plotting\n",
    "plt.plot(delta_values, steady_states, marker='o')\n",
    "plt.title('Steady State Values for different values of $\\delta$')\n",
    "plt.xlabel('Values of $\\delta$')\n",
    "plt.ylabel('Steady State Value of k')\n",
    "plt.grid(True)\n",
    "plt.show()"
   ]
  },
  {
   "cell_type": "markdown",
   "metadata": {},
   "source": [
    "This graph shows the steady state values of k when changing values for capital depreciation. We can see when the values of $\\delta$ increases the steady state value drops. This is because a bigger part of the captial will be destroyed each year, so there will be a smaller amount of capital in the steady state. "
   ]
  },
  {
   "cell_type": "code",
   "execution_count": 11,
   "metadata": {},
   "outputs": [
    {
     "data": {
      "image/png": "[encoded data removed]",
      "text/plain": [
       "<Figure size 640x480 with 1 Axes>"
      ]
     },
     "metadata": {},
     "output_type": "display_data"
    }
   ],
   "source": [
    "# We create a list for different values of delta, so we can see how it effects the steady state\n",
    "phi_values = [0.01, 0.2, 0.4, 0.6, 0.8, 0.9]\n",
    "\n",
    "# Create a empty list for the steady states \n",
    "steady_states = []\n",
    "\n",
    "# Calculate steady state for each n value\n",
    "for phi in phi_values:\n",
    "    obj_kss = lambda k: k - transition_equation(k, par.s, par.alpha, par.delta, par.n, phi)\n",
    "    result = optimize.root_scalar(obj_kss, bracket=[0.1, 100], method='brentq')\n",
    "    steady_states.append(result.root)\n",
    "\n",
    "# Plotting\n",
    "plt.plot(phi_values, steady_states, marker='o')\n",
    "plt.title('Steady State Values for different values of $\\phi$')\n",
    "plt.xlabel('Values of $\\phi$')\n",
    "plt.ylabel('Steady State Value of k')\n",
    "plt.grid(True)\n",
    "plt.show()"
   ]
  },
  {
   "cell_type": "markdown",
   "metadata": {},
   "source": [
    "The graph shows that when $\\phi$ increases, the steady state value of capital decreases. This makes sence when we look our steady state function, however intuitively it does not really make sense. In the equations for our model, we can see that $A_{t+1}$ increases when $\\phi$ increases, this would effect $Y_t$ positively, which should result in the opposite of what the graph shows us (which would be increasing steady state value of capital when $\\phi$ increases). We have not been able to solve the problem, however this could indicate that our steady state function is wrong."
   ]
  },
  {
   "cell_type": "markdown",
   "metadata": {},
   "source": [
    "For the fun of it, we are going to plot an interactive plot, where we will make three different sliders: one for savings rates, one for depreciation of capital ($\\delta$) and one for how strongly the endogenous growth in productivity from capital is ($\\phi$)."
   ]
  },
  {
   "cell_type": "code",
   "execution_count": 12,
   "metadata": {},
   "outputs": [
    {
     "data": {
      "application/vnd.plotly.v1+json": {
       "config": {
        "plotlyServerURL": "https://plot.ly"
       },
       "data": [
        {
         "mode": "lines+markers",
         "name": "Steady State Values",
         "type": "scatter",
         "x": [
          0,
          0.000505050505050505,
          0.00101010101010101,
          0.0015151515151515152,
          0.00202020202020202,
          0.002525252525252525,
          0.0030303030303030303,
          0.0035353535353535356,
          0.00404040404040404,
          0.004545454545454545,
          0.00505050505050505,
          0.005555555555555556,
          0.006060606060606061,
          0.0065656565656565654,
          0.007070707070707071,
          0.007575757575757576,
          0.00808080808080808,
          0.008585858585858586,
          0.00909090909090909,
          0.009595959595959595,
          0.0101010101010101,
          0.010606060606060607,
          0.011111111111111112,
          0.011616161616161616,
          0.012121212121212121,
          0.012626262626262626,
          0.013131313131313131,
          0.013636363636363636,
          0.014141414141414142,
          0.014646464646464647,
          0.015151515151515152,
          0.015656565656565657,
          0.01616161616161616,
          0.016666666666666666,
          0.01717171717171717,
          0.017676767676767676,
          0.01818181818181818,
          0.018686868686868686,
          0.01919191919191919,
          0.019696969696969695,
          0.0202020202020202,
          0.02070707070707071,
          0.021212121212121213,
          0.021717171717171718,
          0.022222222222222223,
          0.022727272727272728,
          0.023232323232323233,
          0.023737373737373738,
          0.024242424242424242,
          0.024747474747474747,
          0.025252525252525252,
          0.025757575757575757,
          0.026262626262626262,
          0.026767676767676767,
          0.02727272727272727,
          0.027777777777777776,
          0.028282828282828285,
          0.02878787878787879,
          0.029292929292929294,
          0.0297979797979798,
          0.030303030303030304,
          0.03080808080808081,
          0.031313131313131314,
          0.031818181818181815,
          0.03232323232323232,
          0.03282828282828283,
          0.03333333333333333,
          0.03383838383838384,
          0.03434343434343434,
          0.03484848484848485,
          0.03535353535353535,
          0.03585858585858586,
          0.03636363636363636,
          0.03686868686868687,
          0.03737373737373737,
          0.03787878787878788,
          0.03838383838383838,
          0.03888888888888889,
          0.03939393939393939,
          0.0398989898989899,
          0.0404040404040404,
          0.04090909090909091,
          0.04141414141414142,
          0.04191919191919192,
          0.04242424242424243,
          0.04292929292929293,
          0.043434343434343436,
          0.04393939393939394,
          0.044444444444444446,
          0.04494949494949495,
          0.045454545454545456,
          0.04595959595959596,
          0.046464646464646465,
          0.04696969696969697,
          0.047474747474747475,
          0.047979797979797977,
          0.048484848484848485,
          0.04898989898989899,
          0.049494949494949494,
          0.05
         ],
         "y": [
          14.501728721890538,
          14.075119437103558,
          13.668863024030316,
          13.281626475158207,
          12.912186964377158,
          12.559420916243766,
          12.222294334178073,
          11.899854223196828,
          11.591220966698058,
          11.295581536903708,
          11.012183435504495,
          10.740329275363464,
          10.47937192627229,
          10.228710158071035,
          9.98778472324328,
          9.756074828615027,
          9.533094952233707,
          9.318391967036078,
          9.111542537687304,
          8.912150761083621,
          8.719846024576695,
          8.534281059061287,
          8.35513016674948,
          8.182087605796008,
          8.014866115967179,
          7.853195571334154,
          7.696821747526104,
          7.545505192450442,
          7.3990201905845625,
          7.25715381200763,
          7.1197050382704825,
          6.98648395802794,
          6.857311026087675,
          6.732016380174174,
          6.610439210283697,
          6.49242717601244,
          6.377835867696804,
          6.266528307606631,
          6.158374487796791,
          6.053250941541875,
          5.951040345570027,
          5.85163115056874,
          5.754917237671352,
          5.6607975988357015,
          5.569176039220598,
          5.479960899829889,
          5.393064798848854,
          5.308404390233429,
          5.225900138239261,
          5.145476106686607,
          5.067059761862992,
          4.990581788053326,
          4.915975914774326,
          4.843178754864215,
          4.772129652648685,
          4.702770541465696,
          4.635045809890077,
          4.568902176051339,
          4.504288569483609,
          4.441156019992795,
          4.37945755306395,
          4.3191480913687474,
          4.260184361966055,
          4.202524808819831,
          4.14612951028491,
          4.090960101239251,
          4.036979699561925,
          3.9841528366806007,
          3.932445391930059,
          3.881824530482939,
          3.832258644629849,
          3.78371729820231,
          3.7361711739460204,
          3.6895920236650075,
          3.6439526209700275,
          3.5992267164748473,
          3.555388995296272,
          3.512415036721267,
          3.470281275915261,
          3.4289649675532674,
          3.3884441512633545,
          3.3486976187785658,
          3.3097048827014395,
          3.2714461467894007,
          3.233902277677324,
          3.1970547779568093,
          3.160885760537855,
          3.1253779242234705,
          3.0905145304304305,
          3.056279380995791,
          3.0226567970100766,
          2.989631598623526,
          2.9571890857736896,
          2.9253150197863538,
          2.893995605804385,
          2.8632174760021147,
          2.832967673544387,
          2.803233637253181,
          2.774003186945351,
          2.7452645094082997
         ]
        }
       ],
       "layout": {
        "hovermode": "x unified",
        "template": {
         "data": {
          "bar": [
           {
            "error_x": {
             "color": "#2a3f5f"
            },
            "error_y": {
             "color": "#2a3f5f"
            },
            "marker": {
             "line": {
              "color": "white",
              "width": 0.5
             },
             "pattern": {
              "fillmode": "overlay",
              "size": 10,
              "solidity": 0.2
             }
            },
            "type": "bar"
           }
          ],
          "barpolar": [
           {
            "marker": {
             "line": {
              "color": "white",
              "width": 0.5
             },
             "pattern": {
              "fillmode": "overlay",
              "size": 10,
              "solidity": 0.2
             }
            },
            "type": "barpolar"
           }
          ],
          "carpet": [
           {
            "aaxis": {
             "endlinecolor": "#2a3f5f",
             "gridcolor": "#C8D4E3",
             "linecolor": "#C8D4E3",
             "minorgridcolor": "#C8D4E3",
             "startlinecolor": "#2a3f5f"
            },
            "baxis": {
             "endlinecolor": "#2a3f5f",
             "gridcolor": "#C8D4E3",
             "linecolor": "#C8D4E3",
             "minorgridcolor": "#C8D4E3",
             "startlinecolor": "#2a3f5f"
            },
            "type": "carpet"
           }
          ],
          "choropleth": [
           {
            "colorbar": {
             "outlinewidth": 0,
             "ticks": ""
            },
            "type": "choropleth"
           }
          ],
          "contour": [
           {
            "colorbar": {
             "outlinewidth": 0,
             "ticks": ""
            },
            "colorscale": [
             [
              0,
              "#0d0887"
             ],
             [
              0.1111111111111111,
              "#46039f"
             ],
             [
              0.2222222222222222,
              "#7201a8"
             ],
             [
              0.3333333333333333,
              "#9c179e"
             ],
             [
              0.4444444444444444,
              "#bd3786"
             ],
             [
              0.5555555555555556,
              "#d8576b"
             ],
             [
              0.6666666666666666,
              "#ed7953"
             ],
             [
              0.7777777777777778,
              "#fb9f3a"
             ],
             [
              0.8888888888888888,
              "#fdca26"
             ],
             [
              1,
              "#f0f921"
             ]
            ],
            "type": "contour"
           }
          ],
          "contourcarpet": [
           {
            "colorbar": {
             "outlinewidth": 0,
             "ticks": ""
            },
            "type": "contourcarpet"
           }
          ],
          "heatmap": [
           {
            "colorbar": {
             "outlinewidth": 0,
             "ticks": ""
            },
            "colorscale": [
             [
              0,
              "#0d0887"
             ],
             [
              0.1111111111111111,
              "#46039f"
             ],
             [
              0.2222222222222222,
              "#7201a8"
             ],
             [
              0.3333333333333333,
              "#9c179e"
             ],
             [
              0.4444444444444444,
              "#bd3786"
             ],
             [
              0.5555555555555556,
              "#d8576b"
             ],
             [
              0.6666666666666666,
              "#ed7953"
             ],
             [
              0.7777777777777778,
              "#fb9f3a"
             ],
             [
              0.8888888888888888,
              "#fdca26"
             ],
             [
              1,
              "#f0f921"
             ]
            ],
            "type": "heatmap"
           }
          ],
          "heatmapgl": [
           {
            "colorbar": {
             "outlinewidth": 0,
             "ticks": ""
            },
            "colorscale": [
             [
              0,
              "#0d0887"
             ],
             [
              0.1111111111111111,
              "#46039f"
             ],
             [
              0.2222222222222222,
              "#7201a8"
             ],
             [
              0.3333333333333333,
              "#9c179e"
             ],
             [
              0.4444444444444444,
              "#bd3786"
             ],
             [
              0.5555555555555556,
              "#d8576b"
             ],
             [
              0.6666666666666666,
              "#ed7953"
             ],
             [
              0.7777777777777778,
              "#fb9f3a"
             ],
             [
              0.8888888888888888,
              "#fdca26"
             ],
             [
              1,
              "#f0f921"
             ]
            ],
            "type": "heatmapgl"
           }
          ],
          "histogram": [
           {
            "marker": {
             "pattern": {
              "fillmode": "overlay",
              "size": 10,
              "solidity": 0.2
             }
            },
            "type": "histogram"
           }
          ],
          "histogram2d": [
           {
            "colorbar": {
             "outlinewidth": 0,
             "ticks": ""
            },
            "colorscale": [
             [
              0,
              "#0d0887"
             ],
             [
              0.1111111111111111,
              "#46039f"
             ],
             [
              0.2222222222222222,
              "#7201a8"
             ],
             [
              0.3333333333333333,
              "#9c179e"
             ],
             [
              0.4444444444444444,
              "#bd3786"
             ],
             [
              0.5555555555555556,
              "#d8576b"
             ],
             [
              0.6666666666666666,
              "#ed7953"
             ],
             [
              0.7777777777777778,
              "#fb9f3a"
             ],
             [
              0.8888888888888888,
              "#fdca26"
             ],
             [
              1,
              "#f0f921"
             ]
            ],
            "type": "histogram2d"
           }
          ],
          "histogram2dcontour": [
           {
            "colorbar": {
             "outlinewidth": 0,
             "ticks": ""
            },
            "colorscale": [
             [
              0,
              "#0d0887"
             ],
             [
              0.1111111111111111,
              "#46039f"
             ],
             [
              0.2222222222222222,
              "#7201a8"
             ],
             [
              0.3333333333333333,
              "#9c179e"
             ],
             [
              0.4444444444444444,
              "#bd3786"
             ],
             [
              0.5555555555555556,
              "#d8576b"
             ],
             [
              0.6666666666666666,
              "#ed7953"
             ],
             [
              0.7777777777777778,
              "#fb9f3a"
             ],
             [
              0.8888888888888888,
              "#fdca26"
             ],
             [
              1,
              "#f0f921"
             ]
            ],
            "type": "histogram2dcontour"
           }
          ],
          "mesh3d": [
           {
            "colorbar": {
             "outlinewidth": 0,
             "ticks": ""
            },
            "type": "mesh3d"
           }
          ],
          "parcoords": [
           {
            "line": {
             "colorbar": {
              "outlinewidth": 0,
              "ticks": ""
             }
            },
            "type": "parcoords"
           }
          ],
          "pie": [
           {
            "automargin": true,
            "type": "pie"
           }
          ],
          "scatter": [
           {
            "fillpattern": {
             "fillmode": "overlay",
             "size": 10,
             "solidity": 0.2
            },
            "type": "scatter"
           }
          ],
          "scatter3d": [
           {
            "line": {
             "colorbar": {
              "outlinewidth": 0,
              "ticks": ""
             }
            },
            "marker": {
             "colorbar": {
              "outlinewidth": 0,
              "ticks": ""
             }
            },
            "type": "scatter3d"
           }
          ],
          "scattercarpet": [
           {
            "marker": {
             "colorbar": {
              "outlinewidth": 0,
              "ticks": ""
             }
            },
            "type": "scattercarpet"
           }
          ],
          "scattergeo": [
           {
            "marker": {
             "colorbar": {
              "outlinewidth": 0,
              "ticks": ""
             }
            },
            "type": "scattergeo"
           }
          ],
          "scattergl": [
           {
            "marker": {
             "colorbar": {
              "outlinewidth": 0,
              "ticks": ""
             }
            },
            "type": "scattergl"
           }
          ],
          "scattermapbox": [
           {
            "marker": {
             "colorbar": {
              "outlinewidth": 0,
              "ticks": ""
             }
            },
            "type": "scattermapbox"
           }
          ],
          "scatterpolar": [
           {
            "marker": {
             "colorbar": {
              "outlinewidth": 0,
              "ticks": ""
             }
            },
            "type": "scatterpolar"
           }
          ],
          "scatterpolargl": [
           {
            "marker": {
             "colorbar": {
              "outlinewidth": 0,
              "ticks": ""
             }
            },
            "type": "scatterpolargl"
           }
          ],
          "scatterternary": [
           {
            "marker": {
             "colorbar": {
              "outlinewidth": 0,
              "ticks": ""
             }
            },
            "type": "scatterternary"
           }
          ],
          "surface": [
           {
            "colorbar": {
             "outlinewidth": 0,
             "ticks": ""
            },
            "colorscale": [
             [
              0,
              "#0d0887"
             ],
             [
              0.1111111111111111,
              "#46039f"
             ],
             [
              0.2222222222222222,
              "#7201a8"
             ],
             [
              0.3333333333333333,
              "#9c179e"
             ],
             [
              0.4444444444444444,
              "#bd3786"
             ],
             [
              0.5555555555555556,
              "#d8576b"
             ],
             [
              0.6666666666666666,
              "#ed7953"
             ],
             [
              0.7777777777777778,
              "#fb9f3a"
             ],
             [
              0.8888888888888888,
              "#fdca26"
             ],
             [
              1,
              "#f0f921"
             ]
            ],
            "type": "surface"
           }
          ],
          "table": [
           {
            "cells": {
             "fill": {
              "color": "#EBF0F8"
             },
             "line": {
              "color": "white"
             }
            },
            "header": {
             "fill": {
              "color": "#C8D4E3"
             },
             "line": {
              "color": "white"
             }
            },
            "type": "table"
           }
          ]
         },
         "layout": {
          "annotationdefaults": {
           "arrowcolor": "#2a3f5f",
           "arrowhead": 0,
           "arrowwidth": 1
          },
          "autotypenumbers": "strict",
          "coloraxis": {
           "colorbar": {
            "outlinewidth": 0,
            "ticks": ""
           }
          },
          "colorscale": {
           "diverging": [
            [
             0,
             "#8e0152"
            ],
            [
             0.1,
             "#c51b7d"
            ],
            [
             0.2,
             "#de77ae"
            ],
            [
             0.3,
             "#f1b6da"
            ],
            [
             0.4,
             "#fde0ef"
            ],
            [
             0.5,
             "#f7f7f7"
            ],
            [
             0.6,
             "#e6f5d0"
            ],
            [
             0.7,
             "#b8e186"
            ],
            [
             0.8,
             "#7fbc41"
            ],
            [
             0.9,
             "#4d9221"
            ],
            [
             1,
             "#276419"
            ]
           ],
           "sequential": [
            [
             0,
             "#0d0887"
            ],
            [
             0.1111111111111111,
             "#46039f"
            ],
            [
             0.2222222222222222,
             "#7201a8"
            ],
            [
             0.3333333333333333,
             "#9c179e"
            ],
            [
             0.4444444444444444,
             "#bd3786"
            ],
            [
             0.5555555555555556,
             "#d8576b"
            ],
            [
             0.6666666666666666,
             "#ed7953"
            ],
            [
             0.7777777777777778,
             "#fb9f3a"
            ],
            [
             0.8888888888888888,
             "#fdca26"
            ],
            [
             1,
             "#f0f921"
            ]
           ],
           "sequentialminus": [
            [
             0,
             "#0d0887"
            ],
            [
             0.1111111111111111,
             "#46039f"
            ],
            [
             0.2222222222222222,
             "#7201a8"
            ],
            [
             0.3333333333333333,
             "#9c179e"
            ],
            [
             0.4444444444444444,
             "#bd3786"
            ],
            [
             0.5555555555555556,
             "#d8576b"
            ],
            [
             0.6666666666666666,
             "#ed7953"
            ],
            [
             0.7777777777777778,
             "#fb9f3a"
            ],
            [
             0.8888888888888888,
             "#fdca26"
            ],
            [
             1,
             "#f0f921"
            ]
           ]
          },
          "colorway": [
           "#636efa",
           "#EF553B",
           "#00cc96",
           "#ab63fa",
           "#FFA15A",
           "#19d3f3",
           "#FF6692",
           "#B6E880",
           "#FF97FF",
           "#FECB52"
          ],
          "font": {
           "color": "#2a3f5f"
          },
          "geo": {
           "bgcolor": "white",
           "lakecolor": "white",
           "landcolor": "white",
           "showlakes": true,
           "showland": true,
           "subunitcolor": "#C8D4E3"
          },
          "hoverlabel": {
           "align": "left"
          },
          "hovermode": "closest",
          "mapbox": {
           "style": "light"
          },
          "paper_bgcolor": "white",
          "plot_bgcolor": "white",
          "polar": {
           "angularaxis": {
            "gridcolor": "#EBF0F8",
            "linecolor": "#EBF0F8",
            "ticks": ""
           },
           "bgcolor": "white",
           "radialaxis": {
            "gridcolor": "#EBF0F8",
            "linecolor": "#EBF0F8",
            "ticks": ""
           }
          },
          "scene": {
           "xaxis": {
            "backgroundcolor": "white",
            "gridcolor": "#DFE8F3",
            "gridwidth": 2,
            "linecolor": "#EBF0F8",
            "showbackground": true,
            "ticks": "",
            "zerolinecolor": "#EBF0F8"
           },
           "yaxis": {
            "backgroundcolor": "white",
            "gridcolor": "#DFE8F3",
            "gridwidth": 2,
            "linecolor": "#EBF0F8",
            "showbackground": true,
            "ticks": "",
            "zerolinecolor": "#EBF0F8"
           },
           "zaxis": {
            "backgroundcolor": "white",
            "gridcolor": "#DFE8F3",
            "gridwidth": 2,
            "linecolor": "#EBF0F8",
            "showbackground": true,
            "ticks": "",
            "zerolinecolor": "#EBF0F8"
           }
          },
          "shapedefaults": {
           "line": {
            "color": "#2a3f5f"
           }
          },
          "ternary": {
           "aaxis": {
            "gridcolor": "#DFE8F3",
            "linecolor": "#A2B1C6",
            "ticks": ""
           },
           "baxis": {
            "gridcolor": "#DFE8F3",
            "linecolor": "#A2B1C6",
            "ticks": ""
           },
           "bgcolor": "white",
           "caxis": {
            "gridcolor": "#DFE8F3",
            "linecolor": "#A2B1C6",
            "ticks": ""
           }
          },
          "title": {
           "x": 0.05
          },
          "xaxis": {
           "automargin": true,
           "gridcolor": "#EBF0F8",
           "linecolor": "#EBF0F8",
           "ticks": "",
           "title": {
            "standoff": 15
           },
           "zerolinecolor": "#EBF0F8",
           "zerolinewidth": 2
          },
          "yaxis": {
           "automargin": true,
           "gridcolor": "#EBF0F8",
           "linecolor": "#EBF0F8",
           "ticks": "",
           "title": {
            "standoff": 15
           },
           "zerolinecolor": "#EBF0F8",
           "zerolinewidth": 2
          }
         }
        },
        "title": {
         "text": "Steady State Values for different population growth rates"
        },
        "xaxis": {
         "title": {
          "text": "Values of population growth rates"
         }
        },
        "yaxis": {
         "title": {
          "text": "Steady State Value of k"
         }
        }
       }
      }
     },
     "metadata": {},
     "output_type": "display_data"
    },
    {
     "data": {
      "application/vnd.jupyter.widget-view+json": {
       "model_id": "548cded70f5f4164912d8517365e1a7f",
       "version_major": 2,
       "version_minor": 0
      },
      "text/plain": [
       "interactive(children=(FloatSlider(value=0.3, description='s:', max=0.6, min=0.1, step=0.01), FloatSlider(value…"
      ]
     },
     "metadata": {},
     "output_type": "display_data"
    },
    {
     "data": {
      "application/vnd.plotly.v1+json": {
       "config": {
        "plotlyServerURL": "https://plot.ly"
       },
       "data": [
        {
         "mode": "lines+markers",
         "name": "Steady State Values",
         "type": "scatter",
         "x": [
          0,
          0.000505050505050505,
          0.00101010101010101,
          0.0015151515151515152,
          0.00202020202020202,
          0.002525252525252525,
          0.0030303030303030303,
          0.0035353535353535356,
          0.00404040404040404,
          0.004545454545454545,
          0.00505050505050505,
          0.005555555555555556,
          0.006060606060606061,
          0.0065656565656565654,
          0.007070707070707071,
          0.007575757575757576,
          0.00808080808080808,
          0.008585858585858586,
          0.00909090909090909,
          0.009595959595959595,
          0.0101010101010101,
          0.010606060606060607,
          0.011111111111111112,
          0.011616161616161616,
          0.012121212121212121,
          0.012626262626262626,
          0.013131313131313131,
          0.013636363636363636,
          0.014141414141414142,
          0.014646464646464647,
          0.015151515151515152,
          0.015656565656565657,
          0.01616161616161616,
          0.016666666666666666,
          0.01717171717171717,
          0.017676767676767676,
          0.01818181818181818,
          0.018686868686868686,
          0.01919191919191919,
          0.019696969696969695,
          0.0202020202020202,
          0.02070707070707071,
          0.021212121212121213,
          0.021717171717171718,
          0.022222222222222223,
          0.022727272727272728,
          0.023232323232323233,
          0.023737373737373738,
          0.024242424242424242,
          0.024747474747474747,
          0.025252525252525252,
          0.025757575757575757,
          0.026262626262626262,
          0.026767676767676767,
          0.02727272727272727,
          0.027777777777777776,
          0.028282828282828285,
          0.02878787878787879,
          0.029292929292929294,
          0.0297979797979798,
          0.030303030303030304,
          0.03080808080808081,
          0.031313131313131314,
          0.031818181818181815,
          0.03232323232323232,
          0.03282828282828283,
          0.03333333333333333,
          0.03383838383838384,
          0.03434343434343434,
          0.03484848484848485,
          0.03535353535353535,
          0.03585858585858586,
          0.03636363636363636,
          0.03686868686868687,
          0.03737373737373737,
          0.03787878787878788,
          0.03838383838383838,
          0.03888888888888889,
          0.03939393939393939,
          0.0398989898989899,
          0.0404040404040404,
          0.04090909090909091,
          0.04141414141414142,
          0.04191919191919192,
          0.04242424242424243,
          0.04292929292929293,
          0.043434343434343436,
          0.04393939393939394,
          0.044444444444444446,
          0.04494949494949495,
          0.045454545454545456,
          0.04595959595959596,
          0.046464646464646465,
          0.04696969696969697,
          0.047474747474747475,
          0.047979797979797977,
          0.048484848484848485,
          0.04898989898989899,
          0.049494949494949494,
          0.05
         ],
         "y": [
          14.501728721890535,
          14.075119437103561,
          13.668863024030316,
          13.281626475158207,
          12.912186964377353,
          12.559420916243766,
          12.222294334178118,
          11.89985422319683,
          11.59122096669806,
          11.295581536903697,
          11.012183435504497,
          10.740329275363468,
          10.479371926272258,
          10.228710158071035,
          9.987784723243283,
          9.756074828615027,
          9.533094952233625,
          9.318391967036042,
          9.111542537687304,
          8.91215076108362,
          8.719846024576695,
          8.534281059061287,
          8.35513016674948,
          8.182087605796005,
          8.014866115967179,
          7.853195571334155,
          7.696821747526105,
          7.5455051924504435,
          7.3990201905845625,
          7.2571538120076315,
          7.119705038270496,
          6.986483958027941,
          6.857311026087675,
          6.732016380174215,
          6.610439210283693,
          6.49242717601244,
          6.377835867696803,
          6.266528307606664,
          6.158374487796791,
          6.053250941541877,
          5.951040345570028,
          5.85163115056874,
          5.754917237671352,
          5.66079759883568,
          5.569176039220581,
          5.479960899829924,
          5.393064798848854,
          5.308404390233429,
          5.22590013823926,
          5.145476106686607,
          5.067059761862992,
          4.990581788053326,
          4.915975914774327,
          4.843178754864215,
          4.772129652648712,
          4.702770541465698,
          4.635045809890101,
          4.568902176051339,
          4.504288569483583,
          4.441156019992795,
          4.379457553063951,
          4.319148091368748,
          4.260184361966055,
          4.202524808819831,
          4.146129510284939,
          4.0909601012392525,
          4.0369796995619165,
          3.984152836680602,
          3.93244539193006,
          3.8818245304829397,
          3.832258644629849,
          3.7837172982023106,
          3.7361711739460097,
          3.6895920236650244,
          3.6439526209700173,
          3.5992267164748477,
          3.5553889952962865,
          3.512415036721267,
          3.4702812759152613,
          3.4289649675532674,
          3.3884441512633545,
          3.3486976187785658,
          3.309704882701441,
          3.2714461467894127,
          3.2339022776773354,
          3.1970547779568093,
          3.16088576053787,
          3.1253779242234736,
          3.090514530430431,
          3.056279380995791,
          3.022656797010076,
          2.9896315986235273,
          2.957189085773695,
          2.9253150197863538,
          2.8939956058043865,
          2.863217476002115,
          2.832967673544394,
          2.8032336372531805,
          2.774003186945351,
          2.7452645094083
         ]
        }
       ],
       "layout": {
        "hovermode": "x unified",
        "template": {
         "data": {
          "bar": [
           {
            "error_x": {
             "color": "#2a3f5f"
            },
            "error_y": {
             "color": "#2a3f5f"
            },
            "marker": {
             "line": {
              "color": "white",
              "width": 0.5
             },
             "pattern": {
              "fillmode": "overlay",
              "size": 10,
              "solidity": 0.2
             }
            },
            "type": "bar"
           }
          ],
          "barpolar": [
           {
            "marker": {
             "line": {
              "color": "white",
              "width": 0.5
             },
             "pattern": {
              "fillmode": "overlay",
              "size": 10,
              "solidity": 0.2
             }
            },
            "type": "barpolar"
           }
          ],
          "carpet": [
           {
            "aaxis": {
             "endlinecolor": "#2a3f5f",
             "gridcolor": "#C8D4E3",
             "linecolor": "#C8D4E3",
             "minorgridcolor": "#C8D4E3",
             "startlinecolor": "#2a3f5f"
            },
            "baxis": {
             "endlinecolor": "#2a3f5f",
             "gridcolor": "#C8D4E3",
             "linecolor": "#C8D4E3",
             "minorgridcolor": "#C8D4E3",
             "startlinecolor": "#2a3f5f"
            },
            "type": "carpet"
           }
          ],
          "choropleth": [
           {
            "colorbar": {
             "outlinewidth": 0,
             "ticks": ""
            },
            "type": "choropleth"
           }
          ],
          "contour": [
           {
            "colorbar": {
             "outlinewidth": 0,
             "ticks": ""
            },
            "colorscale": [
             [
              0,
              "#0d0887"
             ],
             [
              0.1111111111111111,
              "#46039f"
             ],
             [
              0.2222222222222222,
              "#7201a8"
             ],
             [
              0.3333333333333333,
              "#9c179e"
             ],
             [
              0.4444444444444444,
              "#bd3786"
             ],
             [
              0.5555555555555556,
              "#d8576b"
             ],
             [
              0.6666666666666666,
              "#ed7953"
             ],
             [
              0.7777777777777778,
              "#fb9f3a"
             ],
             [
              0.8888888888888888,
              "#fdca26"
             ],
             [
              1,
              "#f0f921"
             ]
            ],
            "type": "contour"
           }
          ],
          "contourcarpet": [
           {
            "colorbar": {
             "outlinewidth": 0,
             "ticks": ""
            },
            "type": "contourcarpet"
           }
          ],
          "heatmap": [
           {
            "colorbar": {
             "outlinewidth": 0,
             "ticks": ""
            },
            "colorscale": [
             [
              0,
              "#0d0887"
             ],
             [
              0.1111111111111111,
              "#46039f"
             ],
             [
              0.2222222222222222,
              "#7201a8"
             ],
             [
              0.3333333333333333,
              "#9c179e"
             ],
             [
              0.4444444444444444,
              "#bd3786"
             ],
             [
              0.5555555555555556,
              "#d8576b"
             ],
             [
              0.6666666666666666,
              "#ed7953"
             ],
             [
              0.7777777777777778,
              "#fb9f3a"
             ],
             [
              0.8888888888888888,
              "#fdca26"
             ],
             [
              1,
              "#f0f921"
             ]
            ],
            "type": "heatmap"
           }
          ],
          "heatmapgl": [
           {
            "colorbar": {
             "outlinewidth": 0,
             "ticks": ""
            },
            "colorscale": [
             [
              0,
              "#0d0887"
             ],
             [
              0.1111111111111111,
              "#46039f"
             ],
             [
              0.2222222222222222,
              "#7201a8"
             ],
             [
              0.3333333333333333,
              "#9c179e"
             ],
             [
              0.4444444444444444,
              "#bd3786"
             ],
             [
              0.5555555555555556,
              "#d8576b"
             ],
             [
              0.6666666666666666,
              "#ed7953"
             ],
             [
              0.7777777777777778,
              "#fb9f3a"
             ],
             [
              0.8888888888888888,
              "#fdca26"
             ],
             [
              1,
              "#f0f921"
             ]
            ],
            "type": "heatmapgl"
           }
          ],
          "histogram": [
           {
            "marker": {
             "pattern": {
              "fillmode": "overlay",
              "size": 10,
              "solidity": 0.2
             }
            },
            "type": "histogram"
           }
          ],
          "histogram2d": [
           {
            "colorbar": {
             "outlinewidth": 0,
             "ticks": ""
            },
            "colorscale": [
             [
              0,
              "#0d0887"
             ],
             [
              0.1111111111111111,
              "#46039f"
             ],
             [
              0.2222222222222222,
              "#7201a8"
             ],
             [
              0.3333333333333333,
              "#9c179e"
             ],
             [
              0.4444444444444444,
              "#bd3786"
             ],
             [
              0.5555555555555556,
              "#d8576b"
             ],
             [
              0.6666666666666666,
              "#ed7953"
             ],
             [
              0.7777777777777778,
              "#fb9f3a"
             ],
             [
              0.8888888888888888,
              "#fdca26"
             ],
             [
              1,
              "#f0f921"
             ]
            ],
            "type": "histogram2d"
           }
          ],
          "histogram2dcontour": [
           {
            "colorbar": {
             "outlinewidth": 0,
             "ticks": ""
            },
            "colorscale": [
             [
              0,
              "#0d0887"
             ],
             [
              0.1111111111111111,
              "#46039f"
             ],
             [
              0.2222222222222222,
              "#7201a8"
             ],
             [
              0.3333333333333333,
              "#9c179e"
             ],
             [
              0.4444444444444444,
              "#bd3786"
             ],
             [
              0.5555555555555556,
              "#d8576b"
             ],
             [
              0.6666666666666666,
              "#ed7953"
             ],
             [
              0.7777777777777778,
              "#fb9f3a"
             ],
             [
              0.8888888888888888,
              "#fdca26"
             ],
             [
              1,
              "#f0f921"
             ]
            ],
            "type": "histogram2dcontour"
           }
          ],
          "mesh3d": [
           {
            "colorbar": {
             "outlinewidth": 0,
             "ticks": ""
            },
            "type": "mesh3d"
           }
          ],
          "parcoords": [
           {
            "line": {
             "colorbar": {
              "outlinewidth": 0,
              "ticks": ""
             }
            },
            "type": "parcoords"
           }
          ],
          "pie": [
           {
            "automargin": true,
            "type": "pie"
           }
          ],
          "scatter": [
           {
            "fillpattern": {
             "fillmode": "overlay",
             "size": 10,
             "solidity": 0.2
            },
            "type": "scatter"
           }
          ],
          "scatter3d": [
           {
            "line": {
             "colorbar": {
              "outlinewidth": 0,
              "ticks": ""
             }
            },
            "marker": {
             "colorbar": {
              "outlinewidth": 0,
              "ticks": ""
             }
            },
            "type": "scatter3d"
           }
          ],
          "scattercarpet": [
           {
            "marker": {
             "colorbar": {
              "outlinewidth": 0,
              "ticks": ""
             }
            },
            "type": "scattercarpet"
           }
          ],
          "scattergeo": [
           {
            "marker": {
             "colorbar": {
              "outlinewidth": 0,
              "ticks": ""
             }
            },
            "type": "scattergeo"
           }
          ],
          "scattergl": [
           {
            "marker": {
             "colorbar": {
              "outlinewidth": 0,
              "ticks": ""
             }
            },
            "type": "scattergl"
           }
          ],
          "scattermapbox": [
           {
            "marker": {
             "colorbar": {
              "outlinewidth": 0,
              "ticks": ""
             }
            },
            "type": "scattermapbox"
           }
          ],
          "scatterpolar": [
           {
            "marker": {
             "colorbar": {
              "outlinewidth": 0,
              "ticks": ""
             }
            },
            "type": "scatterpolar"
           }
          ],
          "scatterpolargl": [
           {
            "marker": {
             "colorbar": {
              "outlinewidth": 0,
              "ticks": ""
             }
            },
            "type": "scatterpolargl"
           }
          ],
          "scatterternary": [
           {
            "marker": {
             "colorbar": {
              "outlinewidth": 0,
              "ticks": ""
             }
            },
            "type": "scatterternary"
           }
          ],
          "surface": [
           {
            "colorbar": {
             "outlinewidth": 0,
             "ticks": ""
            },
            "colorscale": [
             [
              0,
              "#0d0887"
             ],
             [
              0.1111111111111111,
              "#46039f"
             ],
             [
              0.2222222222222222,
              "#7201a8"
             ],
             [
              0.3333333333333333,
              "#9c179e"
             ],
             [
              0.4444444444444444,
              "#bd3786"
             ],
             [
              0.5555555555555556,
              "#d8576b"
             ],
             [
              0.6666666666666666,
              "#ed7953"
             ],
             [
              0.7777777777777778,
              "#fb9f3a"
             ],
             [
              0.8888888888888888,
              "#fdca26"
             ],
             [
              1,
              "#f0f921"
             ]
            ],
            "type": "surface"
           }
          ],
          "table": [
           {
            "cells": {
             "fill": {
              "color": "#EBF0F8"
             },
             "line": {
              "color": "white"
             }
            },
            "header": {
             "fill": {
              "color": "#C8D4E3"
             },
             "line": {
              "color": "white"
             }
            },
            "type": "table"
           }
          ]
         },
         "layout": {
          "annotationdefaults": {
           "arrowcolor": "#2a3f5f",
           "arrowhead": 0,
           "arrowwidth": 1
          },
          "autotypenumbers": "strict",
          "coloraxis": {
           "colorbar": {
            "outlinewidth": 0,
            "ticks": ""
           }
          },
          "colorscale": {
           "diverging": [
            [
             0,
             "#8e0152"
            ],
            [
             0.1,
             "#c51b7d"
            ],
            [
             0.2,
             "#de77ae"
            ],
            [
             0.3,
             "#f1b6da"
            ],
            [
             0.4,
             "#fde0ef"
            ],
            [
             0.5,
             "#f7f7f7"
            ],
            [
             0.6,
             "#e6f5d0"
            ],
            [
             0.7,
             "#b8e186"
            ],
            [
             0.8,
             "#7fbc41"
            ],
            [
             0.9,
             "#4d9221"
            ],
            [
             1,
             "#276419"
            ]
           ],
           "sequential": [
            [
             0,
             "#0d0887"
            ],
            [
             0.1111111111111111,
             "#46039f"
            ],
            [
             0.2222222222222222,
             "#7201a8"
            ],
            [
             0.3333333333333333,
             "#9c179e"
            ],
            [
             0.4444444444444444,
             "#bd3786"
            ],
            [
             0.5555555555555556,
             "#d8576b"
            ],
            [
             0.6666666666666666,
             "#ed7953"
            ],
            [
             0.7777777777777778,
             "#fb9f3a"
            ],
            [
             0.8888888888888888,
             "#fdca26"
            ],
            [
             1,
             "#f0f921"
            ]
           ],
           "sequentialminus": [
            [
             0,
             "#0d0887"
            ],
            [
             0.1111111111111111,
             "#46039f"
            ],
            [
             0.2222222222222222,
             "#7201a8"
            ],
            [
             0.3333333333333333,
             "#9c179e"
            ],
            [
             0.4444444444444444,
             "#bd3786"
            ],
            [
             0.5555555555555556,
             "#d8576b"
            ],
            [
             0.6666666666666666,
             "#ed7953"
            ],
            [
             0.7777777777777778,
             "#fb9f3a"
            ],
            [
             0.8888888888888888,
             "#fdca26"
            ],
            [
             1,
             "#f0f921"
            ]
           ]
          },
          "colorway": [
           "#636efa",
           "#EF553B",
           "#00cc96",
           "#ab63fa",
           "#FFA15A",
           "#19d3f3",
           "#FF6692",
           "#B6E880",
           "#FF97FF",
           "#FECB52"
          ],
          "font": {
           "color": "#2a3f5f"
          },
          "geo": {
           "bgcolor": "white",
           "lakecolor": "white",
           "landcolor": "white",
           "showlakes": true,
           "showland": true,
           "subunitcolor": "#C8D4E3"
          },
          "hoverlabel": {
           "align": "left"
          },
          "hovermode": "closest",
          "mapbox": {
           "style": "light"
          },
          "paper_bgcolor": "white",
          "plot_bgcolor": "white",
          "polar": {
           "angularaxis": {
            "gridcolor": "#EBF0F8",
            "linecolor": "#EBF0F8",
            "ticks": ""
           },
           "bgcolor": "white",
           "radialaxis": {
            "gridcolor": "#EBF0F8",
            "linecolor": "#EBF0F8",
            "ticks": ""
           }
          },
          "scene": {
           "xaxis": {
            "backgroundcolor": "white",
            "gridcolor": "#DFE8F3",
            "gridwidth": 2,
            "linecolor": "#EBF0F8",
            "showbackground": true,
            "ticks": "",
            "zerolinecolor": "#EBF0F8"
           },
           "yaxis": {
            "backgroundcolor": "white",
            "gridcolor": "#DFE8F3",
            "gridwidth": 2,
            "linecolor": "#EBF0F8",
            "showbackground": true,
            "ticks": "",
            "zerolinecolor": "#EBF0F8"
           },
           "zaxis": {
            "backgroundcolor": "white",
            "gridcolor": "#DFE8F3",
            "gridwidth": 2,
            "linecolor": "#EBF0F8",
            "showbackground": true,
            "ticks": "",
            "zerolinecolor": "#EBF0F8"
           }
          },
          "shapedefaults": {
           "line": {
            "color": "#2a3f5f"
           }
          },
          "ternary": {
           "aaxis": {
            "gridcolor": "#DFE8F3",
            "linecolor": "#A2B1C6",
            "ticks": ""
           },
           "baxis": {
            "gridcolor": "#DFE8F3",
            "linecolor": "#A2B1C6",
            "ticks": ""
           },
           "bgcolor": "white",
           "caxis": {
            "gridcolor": "#DFE8F3",
            "linecolor": "#A2B1C6",
            "ticks": ""
           }
          },
          "title": {
           "x": 0.05
          },
          "xaxis": {
           "automargin": true,
           "gridcolor": "#EBF0F8",
           "linecolor": "#EBF0F8",
           "ticks": "",
           "title": {
            "standoff": 15
           },
           "zerolinecolor": "#EBF0F8",
           "zerolinewidth": 2
          },
          "yaxis": {
           "automargin": true,
           "gridcolor": "#EBF0F8",
           "linecolor": "#EBF0F8",
           "ticks": "",
           "title": {
            "standoff": 15
           },
           "zerolinecolor": "#EBF0F8",
           "zerolinewidth": 2
          }
         }
        },
        "title": {
         "text": "Steady State Values for different population growth rates"
        },
        "xaxis": {
         "title": {
          "text": "Values of population growth rates"
         }
        },
        "yaxis": {
         "title": {
          "text": "Steady State Value of k"
         }
        }
       }
      }
     },
     "metadata": {},
     "output_type": "display_data"
    },
    {
     "data": {
      "text/plain": [
       "<function __main__.interactive_plot(s=0.3, delta=0.05, phi=0.5)>"
      ]
     },
     "execution_count": 12,
     "metadata": {},
     "output_type": "execute_result"
    }
   ],
   "source": [
    "# Define a function to calculate steady state for given parameters\n",
    "def calculate_steady_state(s, alpha, delta, n, phi):\n",
    "    steady_states = []\n",
    "    n_values = np.linspace(0, 0.05, 100)\n",
    "    for n in n_values:\n",
    "        obj_kss = lambda k: k - transition_equation(k, s, alpha, delta, n, phi)\n",
    "        result = optimize.root_scalar(obj_kss, bracket=[0.1, 100], method='brentq')\n",
    "        steady_states.append(result.root)\n",
    "    return n_values, steady_states\n",
    "\n",
    "# Create interactive plot\n",
    "def interactive_plot(s=0.3, delta=0.05, phi=0.5):\n",
    "    alpha = 0.33  # Setting a default value for alpha\n",
    "    n_values, steady_states = calculate_steady_state(s, alpha, delta, n, phi)\n",
    "    fig = go.Figure()\n",
    "    fig.add_trace(go.Scatter(x=n_values, y=steady_states, mode='lines+markers', name='Steady State Values'))\n",
    "    fig.update_layout(\n",
    "        title='Steady State Values for different population growth rates',\n",
    "        xaxis=dict(title='Values of population growth rates'),\n",
    "        yaxis=dict(title='Steady State Value of k'),\n",
    "        hovermode='x unified',\n",
    "        template='plotly_white'\n",
    "    )\n",
    "    fig.show()\n",
    "\n",
    "# Define sliders for parameters\n",
    "s_slider = FloatSlider(value=0.3, min=0.1, max=0.6, step=0.01, description='s:')\n",
    "delta_slider = FloatSlider(value=0.05, min=0, max=0.1, step=0.01, description='delta:')\n",
    "phi_slider = FloatSlider(value=0.5, min=0.05, max=0.9, step=0.01, description='phi:')\n",
    "\n",
    "# Create interactive plot\n",
    "interact(interactive_plot, s=s_slider, delta=delta_slider, phi=phi_slider)\n",
    "\n",
    "# The first plot is the steady state values for the baseline parameters, and the second one is the interactive plot"
   ]
  },
  {
   "cell_type": "markdown",
   "metadata": {},
   "source": [
    "# The AK-model"
   ]
  },
  {
   "cell_type": "markdown",
   "metadata": {},
   "source": [
    "We would now change the semi-endogenous model to an endogenous mode, this means that we set $\\phi = 1$ and assume no population growth, which means that $n = 0$. The equations are the same as before, except $L_t$ and $A_{t+1}$.\n",
    "\n",
    "**GDP** is now given as\n",
    "$$ \n",
    "Y_t = K_t^\\alpha(A_t L)^{1-\\alpha}, \\alpha > 0\n",
    "$$\n",
    "\n",
    "**Saving** is still a constant fraction of GDP\n",
    "$$ \n",
    "S_t = sY_t,\\,s\\in(0,1)\n",
    "$$\n",
    "\n",
    "such that **capital accumulates** according to\n",
    "\n",
    "$$\n",
    "K_{t+1}=S_{t}+(1-\\delta)K_{t}, \\delta\\in(0,1)\n",
    "$$\n",
    "\n",
    "**Labor** is now assumed to be the whole population the year prior\n",
    "$$\n",
    "L_{t+1} = L_t = L\n",
    "$$\n",
    "\n",
    "**Technology** is now described as\n",
    "$$\n",
    "A_{t+1}= K_t\n",
    "$$"
   ]
  },
  {
   "cell_type": "markdown",
   "metadata": {},
   "source": [
    "We want to find the steady state function by using the same method as previously, i.e. we would like to solve the transition equation for $k_t$:\n",
    "$$\n",
    "k_{t+1} = s k_t L^{1-\\alpha}+(1-\\delta)k_t\n",
    "$$\n",
    "\n"
   ]
  },
  {
   "cell_type": "code",
   "execution_count": 13,
   "metadata": {},
   "outputs": [
    {
     "name": "stdout",
     "output_type": "stream",
     "text": [
      "0.3\n",
      "0.33\n",
      "0.05\n",
      "1\n"
     ]
    }
   ],
   "source": [
    "print(par.s)\n",
    "print(par.alpha)\n",
    "print(par.delta)\n",
    "print(par.L)"
   ]
  },
  {
   "cell_type": "code",
   "execution_count": 14,
   "metadata": {},
   "outputs": [
    {
     "data": {
      "image/png": "[encoded data removed]",
      "text/plain": [
       "<Figure size 640x480 with 1 Axes>"
      ]
     },
     "metadata": {},
     "output_type": "display_data"
    }
   ],
   "source": [
    "# We define the transition equation\n",
    "def new_transition_equation(k, s, alpha, delta, L):\n",
    "    return (s*k*L**(1-alpha)+(1-delta)*k)\n",
    "\n",
    "# Generate a range of k values\n",
    "k_values = np.linspace(1, 10, 100)\n",
    "\n",
    "# Calculate corresponding values for the transition equation and 45-degree line\n",
    "transition_values = new_transition_equation(k_values, par.s, par.alpha, par.delta, par.L)\n",
    "forty_five_degree_values = forty_five_degree_line(k_values)\n",
    "\n",
    "# Plotting\n",
    "plt.plot(k_values, transition_values, label='Transition Equation', color='blue')\n",
    "plt.plot(k_values, forty_five_degree_values, label='45-degree Line', linestyle='--', color='red')\n",
    "\n",
    "# Labeling and customization\n",
    "plt.title('Transition Equation vs. 45-degree Line')\n",
    "plt.xlabel('Capital (k)')\n",
    "plt.ylabel('Investment - Depreciation (Net Investment)')\n",
    "plt.legend()\n",
    "plt.grid(True)\n",
    "plt.show()"
   ]
  },
  {
   "cell_type": "code",
   "execution_count": 16,
   "metadata": {},
   "outputs": [
    {
     "name": "stdout",
     "output_type": "stream",
     "text": [
      "     k_values\n",
      "0    1.000000\n",
      "1    1.090909\n",
      "2    1.181818\n",
      "3    1.272727\n",
      "4    1.363636\n",
      "..        ...\n",
      "95   9.636364\n",
      "96   9.727273\n",
      "97   9.818182\n",
      "98   9.909091\n",
      "99  10.000000\n",
      "\n",
      "[100 rows x 1 columns]\n"
     ]
    }
   ],
   "source": [
    "# Create a DataFrame to display k values and transition values\n",
    "data = {\n",
    "    'k_values': k_values,\n",
    "}\n",
    "\n",
    "df = pd.DataFrame(data)\n",
    "\n",
    "# Print the table\n",
    "print(df)  # Display the entire DataFrame if needed"
   ]
  },
  {
   "cell_type": "markdown",
   "metadata": {},
   "source": [
    "By plotting the transition equation in relation to the 45 degree line we can see that the two lines do not cross eachother. This means that the inada conditions are not satisfied. However in the list above we can see capital evolves lineary and becomes 0.090909 higher every year. In our model we can then see that A evolves the same way as k. L do not evolve and we therefore get lineary growth. This is therefore steady state since the growth don't change.  "
   ]
  },
  {
   "cell_type": "markdown",
   "metadata": {},
   "source": [
    "# Conclusion"
   ]
  },
  {
   "cell_type": "markdown",
   "metadata": {},
   "source": [
    "In the Solow model with semi-endogenous growth, we estimate the steady state values and change the values for the different parameters to see how it effects the steady state values. We find that increasing population growth ($n$), increasing endogenous growth in productivity from capital ($\\phi$) and higher depreciation rates of capital ($\\delta$) lowers the steady state value. On the other hand, we find that higher saving rates ($s$) effects the steady values positively. For the extenstion of the model, we set up an AK model (Solow model with endogenous growth), in here we solve for the steady state values, as the structurel parameters evolves lineary. "
   ]
  }
 ],
 "metadata": {
  "kernelspec": {
   "display_name": "base",
   "language": "python",
   "name": "python3"
  },
  "language_info": {
   "codemirror_mode": {
    "name": "ipython",
    "version": 3
   },
   "file_extension": ".py",
   "mimetype": "text/x-python",
   "name": "python",
   "nbconvert_exporter": "python",
   "pygments_lexer": "ipython3",
   "version": "3.11.7"
  },
  "toc-autonumbering": true,
  "vscode": {
   "interpreter": {
    "hash": "47ef90cdf3004d3f859f1fb202523c65c07ba7c22eefd261b181f4744e2d0403"
   }
  }
 },
 "nbformat": 4,
 "nbformat_minor": 4
}
