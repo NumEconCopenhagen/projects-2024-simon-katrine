{
 "cells": [
  {
   "cell_type": "markdown",
   "metadata": {},
   "source": [
    "# The Solow Model with limited land"
   ]
  },
  {
   "cell_type": "markdown",
   "metadata": {},
   "source": [
    "Imports and set magics:"
   ]
  },
  {
   "cell_type": "code",
   "execution_count": 20,
   "metadata": {},
   "outputs": [
    {
     "name": "stdout",
     "output_type": "stream",
     "text": [
      "The autoreload extension is already loaded. To reload it, use:\n",
      "  %reload_ext autoreload\n"
     ]
    }
   ],
   "source": [
    "import numpy as np\n",
    "from scipy import optimize\n",
    "import sympy as sm\n",
    "\n",
    "# autoreload modules when code is run\n",
    "%load_ext autoreload\n",
    "%autoreload 2\n",
    "\n",
    "# local modules\n",
    "#import modelproject\n",
    "\n",
    "# Import our class\n",
    "#from modelproject import modelprojectclass\n",
    "\n",
    "# We now define our model \n",
    "#model = modelprojectclass()\n",
    "\n",
    "#par = model.par"
   ]
  },
  {
   "cell_type": "markdown",
   "metadata": {},
   "source": [
    "# Model description"
   ]
  },
  {
   "cell_type": "markdown",
   "metadata": {},
   "source": [
    "**The Solov Model with land**  "
   ]
  },
  {
   "cell_type": "markdown",
   "metadata": {},
   "source": [
    "The model is described as:\n",
    "\n",
    "1. $K_t$ is capital2\n",
    "2. $L_t$ is labor (growing with a constant rate of $n$)\n",
    "3. $A_t$ is technology (growing with a constant rate of $g$)\n",
    "4. $X$ is land which is a non-changing input, therefore it does not depend on the time period \n",
    "5. $Y_t = F(K_t,A_tL_t, X)$ is GDP\n",
    "\n",
    "**GDP** is given as\n",
    "$$ \n",
    "Y_t = K_t^\\alpha(A_t L_t)^\\beta X^\\kappa \\\\\n",
    " \\alpha > 0, \\beta > 0, \\kappa > 0, \\alpha + \\beta + \\kappa = 1 \n",
    "$$\n",
    "\n",
    "The **production function** has **decreasing-return to scale** depending on the value of $\\kappa$\n",
    "\n",
    "**Saving** is a constant fraction of GDP\n",
    "$$ \n",
    "S_t = sY_t,\\,s\\in(0,1)\n",
    "$$\n",
    "\n",
    "such that **capital accumulates** according to\n",
    "\n",
    "$$\n",
    "K_{t+1}=S_{t}+(1-\\delta)K_{t}, \\delta\\in(0,1)\n",
    "$$\n",
    "\n",
    "**Labor** is assumed to be the whole population\n",
    "$$\n",
    "L_{t+1}=(1 + n) L_t, n \\geq 0\n",
    "$$\n",
    "\n",
    "**Technology** is described as\n",
    "$$\n",
    "A_{t+1}= (1 + g) A_t, g \\geq 0\n",
    "$$\n",
    "\n"
   ]
  },
  {
   "cell_type": "markdown",
   "metadata": {},
   "source": [
    "## Analytical solution"
   ]
  },
  {
   "cell_type": "markdown",
   "metadata": {},
   "source": [
    "If your model allows for an analytical solution, you should provide here.\n",
    "\n",
    "You may use Sympy for this. Then you can characterize the solution as a function of a parameter of the model.\n",
    "\n",
    "To characterize the solution, first derive a steady state equation as a function of a parameter using Sympy.solve and then turn it into a python function by Sympy.lambdify. See the lecture notes for details. "
   ]
  },
  {
   "cell_type": "markdown",
   "metadata": {},
   "source": [
    "In order to solve the model, we need to define the capital-output ratio, $z_t$, which is given as: \n",
    "$$\n",
    "z_t = K_t / Y_t = k_t / y_t\n",
    "$$\n",
    "\n",
    "The small letters represents per capita terms. \n",
    "\n",
    "This means that the per capita production function is: \n",
    "$$\n",
    "y_t = k_t^\\alpha A_t^\\beta x_t^\\kappa\n",
    "$$\n",
    "\n",
    "Therefore $z_t$ can also be described as: \n",
    "$$\n",
    "z_t = k_t^{1-\\alpha} A_t^{-\\beta} x_t^{-\\kappa}\n",
    "$$\n",
    "\n",
    "We want to find the steady state function, we therefore use **sympy** to find an analytical expression for the steady state, i.e. we solve the transition equation for $z_t$:\n",
    "$$\n",
    "z_{t+1} = (\\frac{1}{(1+n)(1+g)})^\\beta [s+(1-\\delta) z_t]^{1-\\alpha} z_t^{\\alpha}\n",
    "$$\n",
    "\n",
    "In the steady state the capital output ratio has found a fixed value depending on the variables. We therefore get $z_{t+1} = z_t = z^*$"
   ]
  },
  {
   "cell_type": "code",
   "execution_count": 21,
   "metadata": {},
   "outputs": [],
   "source": [
    "# We start out by defining the symbols\n",
    "z = sm.symbols('z')\n",
    "alpha = sm.symbols('alpha')\n",
    "delta = sm.symbols('delta')\n",
    "beta = sm.symbols('beta')\n",
    "kappa = sm.symbols('kappa')\n",
    "s = sm.symbols('s')\n",
    "g = sm.symbols('g')\n",
    "n = sm.symbols('n')\n",
    "x = sm.symbols('x')\n",
    "A = sm.symbols('A')\n",
    "k = sm.symbols('k')"
   ]
  },
  {
   "cell_type": "code",
   "execution_count": 22,
   "metadata": {},
   "outputs": [
    {
     "ename": "NotImplementedError",
     "evalue": "multiple generators [(-_X0*delta + _X0 + s)**(1 - alpha), _X0, _X0**alpha]\nNo algorithms are implemented to solve equation -_X0**alpha*(1/((g + 1)*(n + 1)))**beta*(_X0*(1 - delta) + s)**(1 - alpha) + _X0",
     "output_type": "error",
     "traceback": [
      "\u001b[0;31m---------------------------------------------------------------------------\u001b[0m",
      "\u001b[0;31mNotImplementedError\u001b[0m                       Traceback (most recent call last)",
      "Cell \u001b[0;32mIn[22], line 8\u001b[0m\n\u001b[1;32m      5\u001b[0m ss \u001b[38;5;241m=\u001b[39m sm\u001b[38;5;241m.\u001b[39mEq(z, ((\u001b[38;5;241m1\u001b[39m\u001b[38;5;241m/\u001b[39m((\u001b[38;5;241m1\u001b[39m\u001b[38;5;241m+\u001b[39mn)\u001b[38;5;241m*\u001b[39m(\u001b[38;5;241m1\u001b[39m\u001b[38;5;241m+\u001b[39mg)))\u001b[38;5;241m*\u001b[39m\u001b[38;5;241m*\u001b[39mbeta\u001b[38;5;241m*\u001b[39m(s\u001b[38;5;241m+\u001b[39m(\u001b[38;5;241m1\u001b[39m\u001b[38;5;241m-\u001b[39mdelta)\u001b[38;5;241m*\u001b[39mz)\u001b[38;5;241m*\u001b[39m\u001b[38;5;241m*\u001b[39m(\u001b[38;5;241m1\u001b[39m\u001b[38;5;241m-\u001b[39malpha)\u001b[38;5;241m*\u001b[39mz\u001b[38;5;241m*\u001b[39m\u001b[38;5;241m*\u001b[39malpha))\n\u001b[1;32m      7\u001b[0m \u001b[38;5;66;03m# løser ss for k, kun en løsning derfor 0 \u001b[39;00m\n\u001b[0;32m----> 8\u001b[0m zss \u001b[38;5;241m=\u001b[39m \u001b[43msm\u001b[49m\u001b[38;5;241;43m.\u001b[39;49m\u001b[43msolve\u001b[49m\u001b[43m(\u001b[49m\u001b[43mss\u001b[49m\u001b[43m,\u001b[49m\u001b[43mz\u001b[49m\u001b[43m)\u001b[49m[\u001b[38;5;241m0\u001b[39m]\n\u001b[1;32m      9\u001b[0m zss\n",
      "File \u001b[0;32m~/anaconda3/envs/Katrine/lib/python3.11/site-packages/sympy/solvers/solvers.py:1145\u001b[0m, in \u001b[0;36msolve\u001b[0;34m(f, *symbols, **flags)\u001b[0m\n\u001b[1;32m   1143\u001b[0m         solution \u001b[38;5;241m=\u001b[39m _solve_undetermined(f[\u001b[38;5;241m0\u001b[39m], symbols, flags)\n\u001b[1;32m   1144\u001b[0m     \u001b[38;5;28;01mif\u001b[39;00m \u001b[38;5;129;01mnot\u001b[39;00m solution:\n\u001b[0;32m-> 1145\u001b[0m         solution \u001b[38;5;241m=\u001b[39m \u001b[43m_solve\u001b[49m\u001b[43m(\u001b[49m\u001b[43mf\u001b[49m\u001b[43m[\u001b[49m\u001b[38;5;241;43m0\u001b[39;49m\u001b[43m]\u001b[49m\u001b[43m,\u001b[49m\u001b[43m \u001b[49m\u001b[38;5;241;43m*\u001b[39;49m\u001b[43msymbols\u001b[49m\u001b[43m,\u001b[49m\u001b[43m \u001b[49m\u001b[38;5;241;43m*\u001b[39;49m\u001b[38;5;241;43m*\u001b[39;49m\u001b[43mflags\u001b[49m\u001b[43m)\u001b[49m\n\u001b[1;32m   1146\u001b[0m \u001b[38;5;28;01melse\u001b[39;00m:\n\u001b[1;32m   1147\u001b[0m     linear, solution \u001b[38;5;241m=\u001b[39m _solve_system(f, symbols, \u001b[38;5;241m*\u001b[39m\u001b[38;5;241m*\u001b[39mflags)\n",
      "File \u001b[0;32m~/anaconda3/envs/Katrine/lib/python3.11/site-packages/sympy/solvers/solvers.py:1693\u001b[0m, in \u001b[0;36m_solve\u001b[0;34m(f, *symbols, **flags)\u001b[0m\n\u001b[1;32m   1690\u001b[0m \u001b[38;5;66;03m# ----------- end of fallback ----------------------------\u001b[39;00m\n\u001b[1;32m   1692\u001b[0m \u001b[38;5;28;01mif\u001b[39;00m result \u001b[38;5;129;01mis\u001b[39;00m \u001b[38;5;28;01mFalse\u001b[39;00m:\n\u001b[0;32m-> 1693\u001b[0m     \u001b[38;5;28;01mraise\u001b[39;00m \u001b[38;5;167;01mNotImplementedError\u001b[39;00m(\u001b[38;5;124m'\u001b[39m\u001b[38;5;130;01m\\n\u001b[39;00m\u001b[38;5;124m'\u001b[39m\u001b[38;5;241m.\u001b[39mjoin([msg, not_impl_msg \u001b[38;5;241m%\u001b[39m f]))\n\u001b[1;32m   1695\u001b[0m result \u001b[38;5;241m=\u001b[39m _remove_duplicate_solutions(result)\n\u001b[1;32m   1697\u001b[0m \u001b[38;5;28;01mif\u001b[39;00m flags\u001b[38;5;241m.\u001b[39mget(\u001b[38;5;124m'\u001b[39m\u001b[38;5;124msimplify\u001b[39m\u001b[38;5;124m'\u001b[39m, \u001b[38;5;28;01mTrue\u001b[39;00m):\n",
      "\u001b[0;31mNotImplementedError\u001b[0m: multiple generators [(-_X0*delta + _X0 + s)**(1 - alpha), _X0, _X0**alpha]\nNo algorithms are implemented to solve equation -_X0**alpha*(1/((g + 1)*(n + 1)))**beta*(_X0*(1 - delta) + s)**(1 - alpha) + _X0"
     ]
    }
   ],
   "source": [
    "# write your code here\n",
    "z = k**(1-alpha)*A**(-beta)* x**(-kappa)\n",
    "\n",
    "# k, da vi løser for k\n",
    "ss = sm.Eq(z, ((1/((1+n)*(1+g)))**beta*(s+(1-delta)*z)**(1-alpha)*z**alpha))\n",
    "\n",
    "# løser ss for k, kun en løsning derfor 0 \n",
    "zss = sm.solve(ss,z)[0]\n",
    "zss"
   ]
  },
  {
   "cell_type": "code",
   "execution_count": null,
   "metadata": {},
   "outputs": [
    {
     "ename": "NameError",
     "evalue": "name 'kss' is not defined",
     "output_type": "error",
     "traceback": [
      "\u001b[0;31m---------------------------------------------------------------------------\u001b[0m",
      "\u001b[0;31mNameError\u001b[0m                                 Traceback (most recent call last)",
      "Cell \u001b[0;32mIn[8], line 2\u001b[0m\n\u001b[1;32m      1\u001b[0m \u001b[38;5;66;03m# write your code here\u001b[39;00m\n\u001b[0;32m----> 2\u001b[0m ss_func \u001b[38;5;241m=\u001b[39m sm\u001b[38;5;241m.\u001b[39mlambdify((s,g,n,delta,alpha),\u001b[43mkss\u001b[49m)\n\u001b[1;32m      4\u001b[0m \u001b[38;5;66;03m# Evaluate function\u001b[39;00m\n\u001b[1;32m      5\u001b[0m ss_func(\u001b[38;5;241m0.2\u001b[39m,\u001b[38;5;241m0.02\u001b[39m,\u001b[38;5;241m0.01\u001b[39m,\u001b[38;5;241m0.1\u001b[39m,\u001b[38;5;241m1\u001b[39m\u001b[38;5;241m/\u001b[39m\u001b[38;5;241m3\u001b[39m)\n",
      "\u001b[0;31mNameError\u001b[0m: name 'kss' is not defined"
     ]
    }
   ],
   "source": [
    "# write your code here\n",
    "ss_func = sm.lambdify((s,g,n,delta,alpha),kss)\n",
    "\n",
    "# Evaluate function\n",
    "ss_func(0.2,0.02,0.01,0.1,1/3)"
   ]
  },
  {
   "cell_type": "markdown",
   "metadata": {},
   "source": [
    "## Numerical solution"
   ]
  },
  {
   "cell_type": "markdown",
   "metadata": {},
   "source": [
    "You can always solve a model numerically. \n",
    "\n",
    "Define first the set of parameters you need. \n",
    "\n",
    "Then choose one of the optimization algorithms that we have gone through in the lectures based on what you think is most fitting for your model.\n",
    "\n",
    "Are there any problems with convergence? Does the model converge for all starting values? Make a lot of testing to figure these things out. "
   ]
  },
  {
   "cell_type": "markdown",
   "metadata": {},
   "source": [
    "# Further analysis"
   ]
  },
  {
   "cell_type": "markdown",
   "metadata": {},
   "source": [
    "Make detailed vizualizations of how your model changes with parameter values. \n",
    "\n",
    "Try to make an extension of the model. "
   ]
  },
  {
   "cell_type": "markdown",
   "metadata": {},
   "source": [
    "# Conclusion"
   ]
  },
  {
   "cell_type": "markdown",
   "metadata": {},
   "source": [
    "Add concise conclusion. "
   ]
  }
 ],
 "metadata": {
  "kernelspec": {
   "display_name": "base",
   "language": "python",
   "name": "python3"
  },
  "language_info": {
   "codemirror_mode": {
    "name": "ipython",
    "version": 3
   },
   "file_extension": ".py",
   "mimetype": "text/x-python",
   "name": "python",
   "nbconvert_exporter": "python",
   "pygments_lexer": "ipython3",
   "version": "3.11.7"
  },
  "toc-autonumbering": true,
  "vscode": {
   "interpreter": {
    "hash": "47ef90cdf3004d3f859f1fb202523c65c07ba7c22eefd261b181f4744e2d0403"
   }
  }
 },
 "nbformat": 4,
 "nbformat_minor": 4
}
