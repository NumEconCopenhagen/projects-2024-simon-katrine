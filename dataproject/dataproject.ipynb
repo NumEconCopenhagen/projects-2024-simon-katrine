{
 "cells": [
  {
   "cell_type": "markdown",
   "metadata": {},
   "source": [
    "# The Phillips curve"
   ]
  },
  {
   "cell_type": "markdown",
   "metadata": {},
   "source": [
    "In this data project we want to plot two \"Phillips curve\", one with inflation and one regarding expected inflation. Historically inflations has been used when making Phillips curves, but new keynisian theories suggest that the difference between actual inflation and expected inflation has a stronger correlation with unemployment rates. We therefore expect to find a stronger correlation, and therefore a better regression, in the Phillips curve regarding expected inflation. \n",
    "Since we couldn´t find data for expected inflation we assume the expected inflation is approx the same as inflation the year prior.\n",
    "The inflation is calculated from consumer price index. Furthermore we use seasonally adjusted data for unemployement rate."
   ]
  },
  {
   "cell_type": "markdown",
   "metadata": {},
   "source": [
    "Imports and set magics:"
   ]
  },
  {
   "cell_type": "code",
   "execution_count": 1,
   "metadata": {},
   "outputs": [],
   "source": [
    "import pandas as pd\n",
    "import numpy as np\n",
    "import matplotlib.pyplot as plt\n",
    "from dstapi import DstApi\n",
    "import plotly.express as px\n",
    "import seaborn as sns\n",
    "\n",
    "# autoreload modules when code is run\n",
    "%load_ext autoreload\n",
    "%autoreload 2"
   ]
  },
  {
   "cell_type": "markdown",
   "metadata": {},
   "source": [
    "# Read and clean data"
   ]
  },
  {
   "cell_type": "markdown",
   "metadata": {},
   "source": [
    "# Unemployment data"
   ]
  },
  {
   "cell_type": "markdown",
   "metadata": {},
   "source": [
    "We start out by importing the uneployment data (seasonally adjusted). We import it by using API, we therefore import the data directly for DST. "
   ]
  },
  {
   "cell_type": "code",
   "execution_count": 2,
   "metadata": {},
   "outputs": [
    {
     "name": "stdout",
     "output_type": "stream",
     "text": [
      "Table AUS09: Unemployment indicator by type of benefits, seasonal adjustment and actual figures and time\n",
      "Last update: 2024-06-12T08:00:00\n"
     ]
    },
    {
     "data": {
      "text/html": [
       "<div>\n",
       "<style scoped>\n",
       "    .dataframe tbody tr th:only-of-type {\n",
       "        vertical-align: middle;\n",
       "    }\n",
       "\n",
       "    .dataframe tbody tr th {\n",
       "        vertical-align: top;\n",
       "    }\n",
       "\n",
       "    .dataframe thead th {\n",
       "        text-align: right;\n",
       "    }\n",
       "</style>\n",
       "<table border=\"1\" class=\"dataframe\">\n",
       "  <thead>\n",
       "    <tr style=\"text-align: right;\">\n",
       "      <th></th>\n",
       "      <th>variable name</th>\n",
       "      <th># values</th>\n",
       "      <th>First value</th>\n",
       "      <th>First value label</th>\n",
       "      <th>Last value</th>\n",
       "      <th>Last value label</th>\n",
       "      <th>Time variable</th>\n",
       "    </tr>\n",
       "  </thead>\n",
       "  <tbody>\n",
       "    <tr>\n",
       "      <th>0</th>\n",
       "      <td>YDELSESTYPE</td>\n",
       "      <td>3</td>\n",
       "      <td>TOT</td>\n",
       "      <td>Gross unemployment</td>\n",
       "      <td>LKM</td>\n",
       "      <td>Unemployed recipients of social assistance</td>\n",
       "      <td>False</td>\n",
       "    </tr>\n",
       "    <tr>\n",
       "      <th>1</th>\n",
       "      <td>SAESONFAK</td>\n",
       "      <td>4</td>\n",
       "      <td>9</td>\n",
       "      <td>Seasonally adjusted figures in percent of the ...</td>\n",
       "      <td>24</td>\n",
       "      <td>Enumerated actual figures</td>\n",
       "      <td>False</td>\n",
       "    </tr>\n",
       "    <tr>\n",
       "      <th>2</th>\n",
       "      <td>Tid</td>\n",
       "      <td>209</td>\n",
       "      <td>2007M01</td>\n",
       "      <td>2007M01</td>\n",
       "      <td>2024M05</td>\n",
       "      <td>2024M05</td>\n",
       "      <td>True</td>\n",
       "    </tr>\n",
       "  </tbody>\n",
       "</table>\n",
       "</div>"
      ],
      "text/plain": [
       "  variable name  # values First value  \\\n",
       "0   YDELSESTYPE         3         TOT   \n",
       "1     SAESONFAK         4           9   \n",
       "2           Tid       209     2007M01   \n",
       "\n",
       "                                   First value label Last value  \\\n",
       "0                                 Gross unemployment        LKM   \n",
       "1  Seasonally adjusted figures in percent of the ...         24   \n",
       "2                                            2007M01    2024M05   \n",
       "\n",
       "                             Last value label  Time variable  \n",
       "0  Unemployed recipients of social assistance          False  \n",
       "1                   Enumerated actual figures          False  \n",
       "2                                     2024M05           True  "
      ]
     },
     "metadata": {},
     "output_type": "display_data"
    }
   ],
   "source": [
    "# We create an dst api **object** that will allow us to interact with the DST server. \n",
    "AUS = DstApi('AUS09') \n",
    "\n",
    "# A quick overview of the available data\n",
    "tabsum = AUS.tablesummary(language='en')\n",
    "display(tabsum)"
   ]
  },
  {
   "cell_type": "code",
   "execution_count": 3,
   "metadata": {},
   "outputs": [
    {
     "name": "stdout",
     "output_type": "stream",
     "text": [
      "YDELSESTYPE:\n"
     ]
    },
    {
     "data": {
      "text/html": [
       "<div>\n",
       "<style scoped>\n",
       "    .dataframe tbody tr th:only-of-type {\n",
       "        vertical-align: middle;\n",
       "    }\n",
       "\n",
       "    .dataframe tbody tr th {\n",
       "        vertical-align: top;\n",
       "    }\n",
       "\n",
       "    .dataframe thead th {\n",
       "        text-align: right;\n",
       "    }\n",
       "</style>\n",
       "<table border=\"1\" class=\"dataframe\">\n",
       "  <thead>\n",
       "    <tr style=\"text-align: right;\">\n",
       "      <th></th>\n",
       "      <th>id</th>\n",
       "      <th>text</th>\n",
       "    </tr>\n",
       "  </thead>\n",
       "  <tbody>\n",
       "    <tr>\n",
       "      <th>0</th>\n",
       "      <td>TOT</td>\n",
       "      <td>Gross unemployment</td>\n",
       "    </tr>\n",
       "    <tr>\n",
       "      <th>1</th>\n",
       "      <td>LDM</td>\n",
       "      <td>Unemployed recipients of unemployment benefits</td>\n",
       "    </tr>\n",
       "    <tr>\n",
       "      <th>2</th>\n",
       "      <td>LKM</td>\n",
       "      <td>Unemployed recipients of social assistance</td>\n",
       "    </tr>\n",
       "  </tbody>\n",
       "</table>\n",
       "</div>"
      ],
      "text/plain": [
       "    id                                            text\n",
       "0  TOT                              Gross unemployment\n",
       "1  LDM  Unemployed recipients of unemployment benefits\n",
       "2  LKM      Unemployed recipients of social assistance"
      ]
     },
     "metadata": {},
     "output_type": "display_data"
    },
    {
     "name": "stdout",
     "output_type": "stream",
     "text": [
      "SAESONFAK:\n"
     ]
    },
    {
     "data": {
      "text/html": [
       "<div>\n",
       "<style scoped>\n",
       "    .dataframe tbody tr th:only-of-type {\n",
       "        vertical-align: middle;\n",
       "    }\n",
       "\n",
       "    .dataframe tbody tr th {\n",
       "        vertical-align: top;\n",
       "    }\n",
       "\n",
       "    .dataframe thead th {\n",
       "        text-align: right;\n",
       "    }\n",
       "</style>\n",
       "<table border=\"1\" class=\"dataframe\">\n",
       "  <thead>\n",
       "    <tr style=\"text-align: right;\">\n",
       "      <th></th>\n",
       "      <th>id</th>\n",
       "      <th>text</th>\n",
       "    </tr>\n",
       "  </thead>\n",
       "  <tbody>\n",
       "    <tr>\n",
       "      <th>0</th>\n",
       "      <td>9</td>\n",
       "      <td>Seasonally adjusted figures in percent of the ...</td>\n",
       "    </tr>\n",
       "    <tr>\n",
       "      <th>1</th>\n",
       "      <td>10</td>\n",
       "      <td>Seasonally adjusted</td>\n",
       "    </tr>\n",
       "    <tr>\n",
       "      <th>2</th>\n",
       "      <td>22</td>\n",
       "      <td>Enumerated actual figures  in percent of the l...</td>\n",
       "    </tr>\n",
       "    <tr>\n",
       "      <th>3</th>\n",
       "      <td>24</td>\n",
       "      <td>Enumerated actual figures</td>\n",
       "    </tr>\n",
       "  </tbody>\n",
       "</table>\n",
       "</div>"
      ],
      "text/plain": [
       "   id                                               text\n",
       "0   9  Seasonally adjusted figures in percent of the ...\n",
       "1  10                                Seasonally adjusted\n",
       "2  22  Enumerated actual figures  in percent of the l...\n",
       "3  24                          Enumerated actual figures"
      ]
     },
     "metadata": {},
     "output_type": "display_data"
    },
    {
     "name": "stdout",
     "output_type": "stream",
     "text": [
      "Tid:\n"
     ]
    },
    {
     "data": {
      "text/html": [
       "<div>\n",
       "<style scoped>\n",
       "    .dataframe tbody tr th:only-of-type {\n",
       "        vertical-align: middle;\n",
       "    }\n",
       "\n",
       "    .dataframe tbody tr th {\n",
       "        vertical-align: top;\n",
       "    }\n",
       "\n",
       "    .dataframe thead th {\n",
       "        text-align: right;\n",
       "    }\n",
       "</style>\n",
       "<table border=\"1\" class=\"dataframe\">\n",
       "  <thead>\n",
       "    <tr style=\"text-align: right;\">\n",
       "      <th></th>\n",
       "      <th>id</th>\n",
       "      <th>text</th>\n",
       "    </tr>\n",
       "  </thead>\n",
       "  <tbody>\n",
       "    <tr>\n",
       "      <th>0</th>\n",
       "      <td>2007M01</td>\n",
       "      <td>2007M01</td>\n",
       "    </tr>\n",
       "    <tr>\n",
       "      <th>1</th>\n",
       "      <td>2007M02</td>\n",
       "      <td>2007M02</td>\n",
       "    </tr>\n",
       "    <tr>\n",
       "      <th>2</th>\n",
       "      <td>2007M03</td>\n",
       "      <td>2007M03</td>\n",
       "    </tr>\n",
       "    <tr>\n",
       "      <th>3</th>\n",
       "      <td>2007M04</td>\n",
       "      <td>2007M04</td>\n",
       "    </tr>\n",
       "    <tr>\n",
       "      <th>4</th>\n",
       "      <td>2007M05</td>\n",
       "      <td>2007M05</td>\n",
       "    </tr>\n",
       "    <tr>\n",
       "      <th>...</th>\n",
       "      <td>...</td>\n",
       "      <td>...</td>\n",
       "    </tr>\n",
       "    <tr>\n",
       "      <th>204</th>\n",
       "      <td>2024M01</td>\n",
       "      <td>2024M01</td>\n",
       "    </tr>\n",
       "    <tr>\n",
       "      <th>205</th>\n",
       "      <td>2024M02</td>\n",
       "      <td>2024M02</td>\n",
       "    </tr>\n",
       "    <tr>\n",
       "      <th>206</th>\n",
       "      <td>2024M03</td>\n",
       "      <td>2024M03</td>\n",
       "    </tr>\n",
       "    <tr>\n",
       "      <th>207</th>\n",
       "      <td>2024M04</td>\n",
       "      <td>2024M04</td>\n",
       "    </tr>\n",
       "    <tr>\n",
       "      <th>208</th>\n",
       "      <td>2024M05</td>\n",
       "      <td>2024M05</td>\n",
       "    </tr>\n",
       "  </tbody>\n",
       "</table>\n",
       "<p>209 rows × 2 columns</p>\n",
       "</div>"
      ],
      "text/plain": [
       "          id     text\n",
       "0    2007M01  2007M01\n",
       "1    2007M02  2007M02\n",
       "2    2007M03  2007M03\n",
       "3    2007M04  2007M04\n",
       "4    2007M05  2007M05\n",
       "..       ...      ...\n",
       "204  2024M01  2024M01\n",
       "205  2024M02  2024M02\n",
       "206  2024M03  2024M03\n",
       "207  2024M04  2024M04\n",
       "208  2024M05  2024M05\n",
       "\n",
       "[209 rows x 2 columns]"
      ]
     },
     "metadata": {},
     "output_type": "display_data"
    }
   ],
   "source": [
    "# The available values for each variable: \n",
    "for variable in tabsum['variable name']:\n",
    "    print(variable+':')\n",
    "    display(AUS.variable_levels(variable, language='en'))"
   ]
  },
  {
   "cell_type": "code",
   "execution_count": 4,
   "metadata": {},
   "outputs": [
    {
     "data": {
      "text/plain": [
       "{'table': 'aus09',\n",
       " 'format': 'BULK',\n",
       " 'lang': 'en',\n",
       " 'variables': [{'code': 'YDELSESTYPE', 'values': ['*']},\n",
       "  {'code': 'SAESONFAK', 'values': ['*']},\n",
       "  {'code': 'Tid', 'values': ['*']}]}"
      ]
     },
     "execution_count": 4,
     "metadata": {},
     "output_type": "execute_result"
    }
   ],
   "source": [
    "# Use the _define_base_params -method to get a nice template (selects all available data)\n",
    "params = AUS._define_base_params(language='en')\n",
    "params"
   ]
  },
  {
   "cell_type": "code",
   "execution_count": 5,
   "metadata": {},
   "outputs": [],
   "source": [
    "# We define what we want the dataset to contain\n",
    "params = {'table': 'aus09',\n",
    " 'format': 'BULK',\n",
    " 'lang': 'en',\n",
    " 'variables': [{'code': 'YDELSESTYPE', 'values': ['TOT']},\n",
    "  {'code': 'SAESONFAK', 'values': ['9']},\n",
    "  {'code': 'Tid', 'values': ['*']}]}"
   ]
  },
  {
   "cell_type": "code",
   "execution_count": 6,
   "metadata": {},
   "outputs": [
    {
     "data": {
      "text/html": [
       "<div>\n",
       "<style scoped>\n",
       "    .dataframe tbody tr th:only-of-type {\n",
       "        vertical-align: middle;\n",
       "    }\n",
       "\n",
       "    .dataframe tbody tr th {\n",
       "        vertical-align: top;\n",
       "    }\n",
       "\n",
       "    .dataframe thead th {\n",
       "        text-align: right;\n",
       "    }\n",
       "</style>\n",
       "<table border=\"1\" class=\"dataframe\">\n",
       "  <thead>\n",
       "    <tr style=\"text-align: right;\">\n",
       "      <th></th>\n",
       "      <th>YDELSESTYPE</th>\n",
       "      <th>SAESONFAK</th>\n",
       "      <th>TID</th>\n",
       "      <th>INDHOLD</th>\n",
       "    </tr>\n",
       "  </thead>\n",
       "  <tbody>\n",
       "    <tr>\n",
       "      <th>0</th>\n",
       "      <td>Gross unemployment</td>\n",
       "      <td>Seasonally adjusted figures in percent of the ...</td>\n",
       "      <td>2021M02</td>\n",
       "      <td>4.5</td>\n",
       "    </tr>\n",
       "    <tr>\n",
       "      <th>1</th>\n",
       "      <td>Gross unemployment</td>\n",
       "      <td>Seasonally adjusted figures in percent of the ...</td>\n",
       "      <td>2021M05</td>\n",
       "      <td>3.9</td>\n",
       "    </tr>\n",
       "    <tr>\n",
       "      <th>2</th>\n",
       "      <td>Gross unemployment</td>\n",
       "      <td>Seasonally adjusted figures in percent of the ...</td>\n",
       "      <td>2008M03</td>\n",
       "      <td>2.6</td>\n",
       "    </tr>\n",
       "    <tr>\n",
       "      <th>3</th>\n",
       "      <td>Gross unemployment</td>\n",
       "      <td>Seasonally adjusted figures in percent of the ...</td>\n",
       "      <td>2013M12</td>\n",
       "      <td>5.6</td>\n",
       "    </tr>\n",
       "    <tr>\n",
       "      <th>4</th>\n",
       "      <td>Gross unemployment</td>\n",
       "      <td>Seasonally adjusted figures in percent of the ...</td>\n",
       "      <td>2014M04</td>\n",
       "      <td>5.1</td>\n",
       "    </tr>\n",
       "  </tbody>\n",
       "</table>\n",
       "</div>"
      ],
      "text/plain": [
       "          YDELSESTYPE                                          SAESONFAK  \\\n",
       "0  Gross unemployment  Seasonally adjusted figures in percent of the ...   \n",
       "1  Gross unemployment  Seasonally adjusted figures in percent of the ...   \n",
       "2  Gross unemployment  Seasonally adjusted figures in percent of the ...   \n",
       "3  Gross unemployment  Seasonally adjusted figures in percent of the ...   \n",
       "4  Gross unemployment  Seasonally adjusted figures in percent of the ...   \n",
       "\n",
       "       TID INDHOLD  \n",
       "0  2021M02     4.5  \n",
       "1  2021M05     3.9  \n",
       "2  2008M03     2.6  \n",
       "3  2013M12     5.6  \n",
       "4  2014M04     5.1  "
      ]
     },
     "execution_count": 6,
     "metadata": {},
     "output_type": "execute_result"
    }
   ],
   "source": [
    "# We load the data from dst via the api using the options specified in the param dictionary \n",
    "unemployment = AUS.get_data(params=params)\n",
    "unemployment.head(5)"
   ]
  },
  {
   "cell_type": "code",
   "execution_count": 7,
   "metadata": {},
   "outputs": [
    {
     "name": "stdout",
     "output_type": "stream",
     "text": [
      "            YDELSESTYPE                                          SAESONFAK  \\\n",
      "195  Gross unemployment  Seasonally adjusted figures in percent of the ...   \n",
      "71   Gross unemployment  Seasonally adjusted figures in percent of the ...   \n",
      "143  Gross unemployment  Seasonally adjusted figures in percent of the ...   \n",
      "23   Gross unemployment  Seasonally adjusted figures in percent of the ...   \n",
      "111  Gross unemployment  Seasonally adjusted figures in percent of the ...   \n",
      "..                  ...                                                ...   \n",
      "13   Gross unemployment  Seasonally adjusted figures in percent of the ...   \n",
      "34   Gross unemployment  Seasonally adjusted figures in percent of the ...   \n",
      "166  Gross unemployment  Seasonally adjusted figures in percent of the ...   \n",
      "27   Gross unemployment  Seasonally adjusted figures in percent of the ...   \n",
      "110  Gross unemployment  Seasonally adjusted figures in percent of the ...   \n",
      "\n",
      "         TID INDHOLD  \n",
      "195  2007M01     4.3  \n",
      "71   2007M02     4.1  \n",
      "143  2007M03     3.9  \n",
      "23   2007M04     3.9  \n",
      "111  2007M05     3.8  \n",
      "..       ...     ...  \n",
      "13   2024M01     2.9  \n",
      "34   2024M02     2.9  \n",
      "166  2024M03     2.9  \n",
      "27   2024M04     2.9  \n",
      "110  2024M05     2.9  \n",
      "\n",
      "[209 rows x 4 columns]\n"
     ]
    }
   ],
   "source": [
    "# We sort the data so it is in chronological order\n",
    "unemployment = unemployment.sort_values(by='TID')\n",
    "print(unemployment)"
   ]
  },
  {
   "cell_type": "code",
   "execution_count": 8,
   "metadata": {},
   "outputs": [
    {
     "name": "stdout",
     "output_type": "stream",
     "text": [
      "            YDELSESTYPE                                          SAESONFAK  \\\n",
      "0    Gross unemployment  Seasonally adjusted figures in percent of the ...   \n",
      "1    Gross unemployment  Seasonally adjusted figures in percent of the ...   \n",
      "2    Gross unemployment  Seasonally adjusted figures in percent of the ...   \n",
      "3    Gross unemployment  Seasonally adjusted figures in percent of the ...   \n",
      "4    Gross unemployment  Seasonally adjusted figures in percent of the ...   \n",
      "..                  ...                                                ...   \n",
      "204  Gross unemployment  Seasonally adjusted figures in percent of the ...   \n",
      "205  Gross unemployment  Seasonally adjusted figures in percent of the ...   \n",
      "206  Gross unemployment  Seasonally adjusted figures in percent of the ...   \n",
      "207  Gross unemployment  Seasonally adjusted figures in percent of the ...   \n",
      "208  Gross unemployment  Seasonally adjusted figures in percent of the ...   \n",
      "\n",
      "         TID INDHOLD  \n",
      "0    2007M01     4.3  \n",
      "1    2007M02     4.1  \n",
      "2    2007M03     3.9  \n",
      "3    2007M04     3.9  \n",
      "4    2007M05     3.8  \n",
      "..       ...     ...  \n",
      "204  2024M01     2.9  \n",
      "205  2024M02     2.9  \n",
      "206  2024M03     2.9  \n",
      "207  2024M04     2.9  \n",
      "208  2024M05     2.9  \n",
      "\n",
      "[209 rows x 4 columns]\n"
     ]
    }
   ],
   "source": [
    "# We reset the index\n",
    "unemployment.reset_index(drop=True, inplace=True)\n",
    "print(unemployment)"
   ]
  },
  {
   "cell_type": "code",
   "execution_count": 9,
   "metadata": {},
   "outputs": [
    {
     "name": "stdout",
     "output_type": "stream",
     "text": [
      "    year_month unemployment\n",
      "0      2007M01          4.3\n",
      "1      2007M02          4.1\n",
      "2      2007M03          3.9\n",
      "3      2007M04          3.9\n",
      "4      2007M05          3.8\n",
      "..         ...          ...\n",
      "201    2023M10          2.8\n",
      "202    2023M11          2.9\n",
      "203    2023M12          2.9\n",
      "204    2024M01          2.9\n",
      "205    2024M02          2.9\n",
      "\n",
      "[206 rows x 2 columns]\n"
     ]
    }
   ],
   "source": [
    "# We delete the last two rows\n",
    "unemployment = unemployment[:-3]\n",
    "\n",
    "# We drop the variables \"YDELSESTYPE\" and \"SAESONFAK\"\n",
    "unemployment = unemployment.drop(columns=['YDELSESTYPE', 'SAESONFAK'])\n",
    "\n",
    "# We rename \"TID\" and \"INDHOLD\"\n",
    "unemployment.rename(columns = {\"TID\": \"year_month\",\"INDHOLD\": \"unemployment\"},  inplace =True)\n",
    "print(unemployment)"
   ]
  },
  {
   "cell_type": "markdown",
   "metadata": {},
   "source": [
    "We now have a dataset for unemployment that goes from primo 2007 to ultimo 2023"
   ]
  },
  {
   "cell_type": "markdown",
   "metadata": {},
   "source": [
    "# Consumer price index"
   ]
  },
  {
   "cell_type": "markdown",
   "metadata": {},
   "source": [
    "We import data for consumer price index by downloading the dataset from DST as a .csv file. "
   ]
  },
  {
   "cell_type": "code",
   "execution_count": 10,
   "metadata": {},
   "outputs": [
    {
     "data": {
      "text/html": [
       "<div>\n",
       "<style scoped>\n",
       "    .dataframe tbody tr th:only-of-type {\n",
       "        vertical-align: middle;\n",
       "    }\n",
       "\n",
       "    .dataframe tbody tr th {\n",
       "        vertical-align: top;\n",
       "    }\n",
       "\n",
       "    .dataframe thead th {\n",
       "        text-align: right;\n",
       "    }\n",
       "</style>\n",
       "<table border=\"1\" class=\"dataframe\">\n",
       "  <thead>\n",
       "    <tr style=\"text-align: right;\">\n",
       "      <th></th>\n",
       "      <th>2004M12</th>\n",
       "      <th>82.6</th>\n",
       "    </tr>\n",
       "  </thead>\n",
       "  <tbody>\n",
       "    <tr>\n",
       "      <th>0</th>\n",
       "      <td>2005M01</td>\n",
       "      <td>82.4</td>\n",
       "    </tr>\n",
       "    <tr>\n",
       "      <th>1</th>\n",
       "      <td>2005M02</td>\n",
       "      <td>83.2</td>\n",
       "    </tr>\n",
       "    <tr>\n",
       "      <th>2</th>\n",
       "      <td>2005M03</td>\n",
       "      <td>83.7</td>\n",
       "    </tr>\n",
       "    <tr>\n",
       "      <th>3</th>\n",
       "      <td>2005M04</td>\n",
       "      <td>84.1</td>\n",
       "    </tr>\n",
       "    <tr>\n",
       "      <th>4</th>\n",
       "      <td>2005M05</td>\n",
       "      <td>84.1</td>\n",
       "    </tr>\n",
       "  </tbody>\n",
       "</table>\n",
       "</div>"
      ],
      "text/plain": [
       "   2004M12  82.6\n",
       "0  2005M01  82.4\n",
       "1  2005M02  83.2\n",
       "2  2005M03  83.7\n",
       "3  2005M04  84.1\n",
       "4  2005M05  84.1"
      ]
     },
     "execution_count": 10,
     "metadata": {},
     "output_type": "execute_result"
    }
   ],
   "source": [
    "# we save the dataset as \"data\" \n",
    "PRIS = 'PRIS113.csv'\n",
    "\n",
    "# we skip the first 322 rows\n",
    "index = pd.read_csv(PRIS, sep=';', skiprows=299)\n",
    "index.head(5)\n"
   ]
  },
  {
   "cell_type": "code",
   "execution_count": 11,
   "metadata": {},
   "outputs": [
    {
     "data": {
      "text/html": [
       "<div>\n",
       "<style scoped>\n",
       "    .dataframe tbody tr th:only-of-type {\n",
       "        vertical-align: middle;\n",
       "    }\n",
       "\n",
       "    .dataframe tbody tr th {\n",
       "        vertical-align: top;\n",
       "    }\n",
       "\n",
       "    .dataframe thead th {\n",
       "        text-align: right;\n",
       "    }\n",
       "</style>\n",
       "<table border=\"1\" class=\"dataframe\">\n",
       "  <thead>\n",
       "    <tr style=\"text-align: right;\">\n",
       "      <th></th>\n",
       "      <th>2004M12</th>\n",
       "      <th>82.6</th>\n",
       "    </tr>\n",
       "  </thead>\n",
       "  <tbody>\n",
       "    <tr>\n",
       "      <th>223</th>\n",
       "      <td>2023M08</td>\n",
       "      <td>117.7</td>\n",
       "    </tr>\n",
       "    <tr>\n",
       "      <th>224</th>\n",
       "      <td>2023M09</td>\n",
       "      <td>117.4</td>\n",
       "    </tr>\n",
       "    <tr>\n",
       "      <th>225</th>\n",
       "      <td>2023M10</td>\n",
       "      <td>117.7</td>\n",
       "    </tr>\n",
       "    <tr>\n",
       "      <th>226</th>\n",
       "      <td>2023M11</td>\n",
       "      <td>117.3</td>\n",
       "    </tr>\n",
       "    <tr>\n",
       "      <th>227</th>\n",
       "      <td>2023M12</td>\n",
       "      <td>116.7</td>\n",
       "    </tr>\n",
       "  </tbody>\n",
       "</table>\n",
       "</div>"
      ],
      "text/plain": [
       "     2004M12   82.6\n",
       "223  2023M08  117.7\n",
       "224  2023M09  117.4\n",
       "225  2023M10  117.7\n",
       "226  2023M11  117.3\n",
       "227  2023M12  116.7"
      ]
     },
     "execution_count": 11,
     "metadata": {},
     "output_type": "execute_result"
    }
   ],
   "source": [
    "# We delete the last two rows\n",
    "index = index[:-2]\n",
    "index.tail(5)"
   ]
  },
  {
   "cell_type": "markdown",
   "metadata": {},
   "source": [
    "Now our dataset goes fromn 2005M01 to 2023M12"
   ]
  },
  {
   "cell_type": "code",
   "execution_count": 12,
   "metadata": {},
   "outputs": [
    {
     "name": "stdout",
     "output_type": "stream",
     "text": [
      "    year_month  cp_index\n",
      "0      2005M01      82.4\n",
      "1      2005M02      83.2\n",
      "2      2005M03      83.7\n",
      "3      2005M04      84.1\n",
      "4      2005M05      84.1\n",
      "..         ...       ...\n",
      "223    2023M08     117.7\n",
      "224    2023M09     117.4\n",
      "225    2023M10     117.7\n",
      "226    2023M11     117.3\n",
      "227    2023M12     116.7\n",
      "\n",
      "[228 rows x 2 columns]\n"
     ]
    }
   ],
   "source": [
    "# We rename our variables\n",
    "index.rename(columns = {\"2004M12\": \"year_month\",\"82.6\": \"cp_index\"},  inplace =True)\n",
    "print(index)"
   ]
  },
  {
   "cell_type": "code",
   "execution_count": 13,
   "metadata": {},
   "outputs": [
    {
     "name": "stdout",
     "output_type": "stream",
     "text": [
      "    year_month  cp_index  inflation\n",
      "12     2006M01      84.2   2.184466\n",
      "13     2006M02      85.0   2.163462\n",
      "14     2006M03      85.3   1.911589\n",
      "15     2006M04      85.7   1.902497\n",
      "16     2006M05      85.8   2.021403\n",
      "..         ...       ...        ...\n",
      "223    2023M08     117.7   2.436902\n",
      "224    2023M09     117.4   0.859107\n",
      "225    2023M10     117.7   0.085034\n",
      "226    2023M11     117.3   0.600343\n",
      "227    2023M12     116.7   0.690250\n",
      "\n",
      "[216 rows x 3 columns]\n"
     ]
    }
   ],
   "source": [
    "# We calculate the inflation by comparing the cp_index a given month with the same month a year ago\n",
    "index['inflation'] = (index['cp_index'] - index['cp_index'].shift(12)) / index['cp_index'].shift(12) * 100\n",
    "\n",
    "# we print and delete the year 2005, since this would be equal to zero \n",
    "index = index.iloc[12:]\n",
    "print(index)"
   ]
  },
  {
   "cell_type": "markdown",
   "metadata": {},
   "source": [
    "Our dataset goes from primo 2006 to ultimo 2023"
   ]
  },
  {
   "cell_type": "code",
   "execution_count": 14,
   "metadata": {},
   "outputs": [
    {
     "name": "stdout",
     "output_type": "stream",
     "text": [
      "    year_month  cp_index  inflation  exp_inflation\n",
      "24     2007M01      85.7   1.781473       2.184466\n",
      "25     2007M02      86.6   1.882353       2.163462\n",
      "26     2007M03      87.0   1.992966       1.911589\n",
      "27     2007M04      87.1   1.633606       1.902497\n",
      "28     2007M05      87.3   1.748252       2.021403\n",
      "..         ...       ...        ...            ...\n",
      "223    2023M08     117.7   2.436902       8.909953\n",
      "224    2023M09     117.4   0.859107      10.018904\n",
      "225    2023M10     117.7   0.085034      10.112360\n",
      "226    2023M11     117.3   0.600343       8.870215\n",
      "227    2023M12     116.7   0.690250       8.724203\n",
      "\n",
      "[204 rows x 4 columns]\n"
     ]
    }
   ],
   "source": [
    "# Now we want to create a variable for the expected inflation. The expected inflation is the inflation the given month a year prior. \n",
    "index['exp_inflation'] = index['inflation'].shift(12)\n",
    "\n",
    "# We print and delete the year 2006, since this would be equal to zero \n",
    "index = index.iloc[12:]\n",
    "print(index)"
   ]
  },
  {
   "cell_type": "code",
   "execution_count": 15,
   "metadata": {},
   "outputs": [
    {
     "name": "stdout",
     "output_type": "stream",
     "text": [
      "    year_month  cp_index  inflation  exp_inflation  fluctuation\n",
      "0      2007M01      85.7   1.781473       2.184466    -0.402993\n",
      "1      2007M02      86.6   1.882353       2.163462    -0.281109\n",
      "2      2007M03      87.0   1.992966       1.911589     0.081377\n",
      "3      2007M04      87.1   1.633606       1.902497    -0.268891\n",
      "4      2007M05      87.3   1.748252       2.021403    -0.273151\n",
      "..         ...       ...        ...            ...          ...\n",
      "199    2023M08     117.7   2.436902       8.909953    -6.473051\n",
      "200    2023M09     117.4   0.859107      10.018904    -9.159797\n",
      "201    2023M10     117.7   0.085034      10.112360   -10.027326\n",
      "202    2023M11     117.3   0.600343       8.870215    -8.269872\n",
      "203    2023M12     116.7   0.690250       8.724203    -8.033952\n",
      "\n",
      "[204 rows x 5 columns]\n"
     ]
    }
   ],
   "source": [
    "# Since we want to test the new keynisian theories regarding the Phillips curve, we need to find the difference between actual inflation and expected inflation\n",
    "index['fluctuation'] = index['inflation'] - index['exp_inflation']\n",
    "\n",
    "# Since the index now starts at 24 we will reset it \n",
    "index.reset_index(drop=True, inplace=True)\n",
    "print(index)"
   ]
  },
  {
   "cell_type": "markdown",
   "metadata": {},
   "source": [
    "Our dataset now goes from primo 2007 to ultimo 2023, just as the unemployment data"
   ]
  },
  {
   "cell_type": "markdown",
   "metadata": {},
   "source": [
    "# Merge the two datasets"
   ]
  },
  {
   "cell_type": "markdown",
   "metadata": {},
   "source": [
    "We now have a dataset for unemployment that consist of 204 rows and two variables, and we have a dataset for the consumer price index that also contain 204 rows but with four variables. \n",
    "\n",
    "The last thing we want to do is to merge the two datasets. "
   ]
  },
  {
   "cell_type": "code",
   "execution_count": 16,
   "metadata": {},
   "outputs": [
    {
     "name": "stdout",
     "output_type": "stream",
     "text": [
      "    year_month  cp_index  inflation  exp_inflation  fluctuation unemployment\n",
      "0      2007M01      85.7   1.781473       2.184466    -0.402993          4.3\n",
      "1      2007M02      86.6   1.882353       2.163462    -0.281109          4.1\n",
      "2      2007M03      87.0   1.992966       1.911589     0.081377          3.9\n",
      "3      2007M04      87.1   1.633606       1.902497    -0.268891          3.9\n",
      "4      2007M05      87.3   1.748252       2.021403    -0.273151          3.8\n",
      "..         ...       ...        ...            ...          ...          ...\n",
      "199    2023M08     117.7   2.436902       8.909953    -6.473051          2.8\n",
      "200    2023M09     117.4   0.859107      10.018904    -9.159797          2.8\n",
      "201    2023M10     117.7   0.085034      10.112360   -10.027326          2.8\n",
      "202    2023M11     117.3   0.600343       8.870215    -8.269872          2.9\n",
      "203    2023M12     116.7   0.690250       8.724203    -8.033952          2.9\n",
      "\n",
      "[204 rows x 6 columns]\n"
     ]
    }
   ],
   "source": [
    "# We merge the two datasets\n",
    "final_dataset = pd.merge(index, unemployment, on=\"year_month\")\n",
    "print(final_dataset)"
   ]
  },
  {
   "cell_type": "markdown",
   "metadata": {},
   "source": [
    "## Explore dataset"
   ]
  },
  {
   "cell_type": "markdown",
   "metadata": {},
   "source": [
    "We will now explore the final dataset by plotting the uneployment rates, the inflation and the expected inflation. "
   ]
  },
  {
   "cell_type": "code",
   "execution_count": 17,
   "metadata": {},
   "outputs": [
    {
     "data": {
      "application/vnd.plotly.v1+json": {
       "config": {
        "plotlyServerURL": "https://plot.ly"
       },
       "data": [
        {
         "hovertemplate": "Rate Type=inflation<br>Year and month=%{x}<br>Inflation Rate=%{y}<extra></extra>",
         "legendgroup": "inflation",
         "line": {
          "color": "#636efa",
          "dash": "solid"
         },
         "marker": {
          "symbol": "circle"
         },
         "mode": "lines",
         "name": "Actual Inflation",
         "orientation": "v",
         "showlegend": true,
         "type": "scatter",
         "x": [
          "2007M01",
          "2007M02",
          "2007M03",
          "2007M04",
          "2007M05",
          "2007M06",
          "2007M07",
          "2007M08",
          "2007M09",
          "2007M10",
          "2007M11",
          "2007M12",
          "2008M01",
          "2008M02",
          "2008M03",
          "2008M04",
          "2008M05",
          "2008M06",
          "2008M07",
          "2008M08",
          "2008M09",
          "2008M10",
          "2008M11",
          "2008M12",
          "2009M01",
          "2009M02",
          "2009M03",
          "2009M04",
          "2009M05",
          "2009M06",
          "2009M07",
          "2009M08",
          "2009M09",
          "2009M10",
          "2009M11",
          "2009M12",
          "2010M01",
          "2010M02",
          "2010M03",
          "2010M04",
          "2010M05",
          "2010M06",
          "2010M07",
          "2010M08",
          "2010M09",
          "2010M10",
          "2010M11",
          "2010M12",
          "2011M01",
          "2011M02",
          "2011M03",
          "2011M04",
          "2011M05",
          "2011M06",
          "2011M07",
          "2011M08",
          "2011M09",
          "2011M10",
          "2011M11",
          "2011M12",
          "2012M01",
          "2012M02",
          "2012M03",
          "2012M04",
          "2012M05",
          "2012M06",
          "2012M07",
          "2012M08",
          "2012M09",
          "2012M10",
          "2012M11",
          "2012M12",
          "2013M01",
          "2013M02",
          "2013M03",
          "2013M04",
          "2013M05",
          "2013M06",
          "2013M07",
          "2013M08",
          "2013M09",
          "2013M10",
          "2013M11",
          "2013M12",
          "2014M01",
          "2014M02",
          "2014M03",
          "2014M04",
          "2014M05",
          "2014M06",
          "2014M07",
          "2014M08",
          "2014M09",
          "2014M10",
          "2014M11",
          "2014M12",
          "2015M01",
          "2015M02",
          "2015M03",
          "2015M04",
          "2015M05",
          "2015M06",
          "2015M07",
          "2015M08",
          "2015M09",
          "2015M10",
          "2015M11",
          "2015M12",
          "2016M01",
          "2016M02",
          "2016M03",
          "2016M04",
          "2016M05",
          "2016M06",
          "2016M07",
          "2016M08",
          "2016M09",
          "2016M10",
          "2016M11",
          "2016M12",
          "2017M01",
          "2017M02",
          "2017M03",
          "2017M04",
          "2017M05",
          "2017M06",
          "2017M07",
          "2017M08",
          "2017M09",
          "2017M10",
          "2017M11",
          "2017M12",
          "2018M01",
          "2018M02",
          "2018M03",
          "2018M04",
          "2018M05",
          "2018M06",
          "2018M07",
          "2018M08",
          "2018M09",
          "2018M10",
          "2018M11",
          "2018M12",
          "2019M01",
          "2019M02",
          "2019M03",
          "2019M04",
          "2019M05",
          "2019M06",
          "2019M07",
          "2019M08",
          "2019M09",
          "2019M10",
          "2019M11",
          "2019M12",
          "2020M01",
          "2020M02",
          "2020M03",
          "2020M04",
          "2020M05",
          "2020M06",
          "2020M07",
          "2020M08",
          "2020M09",
          "2020M10",
          "2020M11",
          "2020M12",
          "2021M01",
          "2021M02",
          "2021M03",
          "2021M04",
          "2021M05",
          "2021M06",
          "2021M07",
          "2021M08",
          "2021M09",
          "2021M10",
          "2021M11",
          "2021M12",
          "2022M01",
          "2022M02",
          "2022M03",
          "2022M04",
          "2022M05",
          "2022M06",
          "2022M07",
          "2022M08",
          "2022M09",
          "2022M10",
          "2022M11",
          "2022M12",
          "2023M01",
          "2023M02",
          "2023M03",
          "2023M04",
          "2023M05",
          "2023M06",
          "2023M07",
          "2023M08",
          "2023M09",
          "2023M10",
          "2023M11",
          "2023M12"
         ],
         "xaxis": "x",
         "y": [
          1.7814726840855106,
          1.882352941176464,
          1.9929660023446694,
          1.6336056009334787,
          1.7482517482517483,
          1.3953488372093057,
          1.1655011655011656,
          0.9324009324009291,
          1.2775842044134826,
          1.744186046511628,
          2.4447031431897486,
          2.3255813953488373,
          2.9171528588098017,
          3.1177829099307197,
          3.1034482758620725,
          3.3295063145809483,
          3.436426116838488,
          3.7844036697247674,
          4.032258064516129,
          4.3879907621247245,
          4.1284403669724705,
          3.65714285714286,
          2.7272727272727337,
          2.38636363636363,
          1.8140589569160932,
          1.7917133258678708,
          1.6722408026755853,
          1.2222222222222159,
          1.2181616832779718,
          1.2154696132596623,
          0.9966777408637937,
          1.1061946902654867,
          0.8810572687224639,
          0.9922822491730886,
          1.3274336283185715,
          1.4428412874583922,
          2.0044543429844066,
          1.980198019801977,
          2.302631578947362,
          2.524698133918783,
          2.1881838074398248,
          1.8558951965065535,
          2.1929824561403506,
          2.4070021881837946,
          2.510917030567698,
          2.401746724890833,
          2.510917030567698,
          2.844638949671766,
          2.7292576419213974,
          2.6968716289104635,
          2.679528403001072,
          2.99785867237687,
          3.1049250535331816,
          3.001071811361198,
          3.004291845493559,
          2.56410256410257,
          2.5559105431309814,
          2.77185501066099,
          2.5559105431309814,
          2.4468085106382946,
          2.763018065887363,
          2.731092436974784,
          2.6096033402922756,
          2.1829521829521767,
          2.180685358255461,
          2.1852237252861695,
          2.2916666666666696,
          2.604166666666667,
          2.492211838006236,
          2.3858921161825695,
          2.284527518172381,
          2.0768431983385254,
          1.2409513960703233,
          1.2269938650306778,
          1.017293997965412,
          0.8138351983723268,
          0.8130081300812979,
          0.9164969450101746,
          0.6109979633401164,
          0.4060913705583814,
          0.5065856129685917,
          0.6079027355623042,
          0.6091370558375577,
          0.7121057985757913,
          1.0214504596527068,
          0.5050505050505051,
          0.3021148036253748,
          0.7063572149344126,
          0.5040322580645161,
          0.6054490413723598,
          0.7085020242915009,
          0.5055611729019212,
          0.5040322580645161,
          0.5035246727089627,
          0.5045408678102926,
          0.40404040404040975,
          -0.10111223458039284,
          0.30150753768843935,
          0.6024096385542255,
          0.501002004008016,
          0.7021063189568734,
          0.6018054162487405,
          0.7035175879397014,
          0.603621730382288,
          0.5015045135406219,
          0.3006012024048068,
          0.30120481927711984,
          0.40241448692152054,
          0.6072874493927213,
          0.3006012024048068,
          0,
          0,
          0.09960159362549234,
          0.29910269192422445,
          0.29940119760478756,
          0.20000000000000281,
          0,
          0.2997002997003111,
          0.4004004004003918,
          0.501002004008016,
          0.905432595573432,
          0.999000999000999,
          0.998003992015968,
          1.096709870388842,
          0.7960199004975096,
          0.5964214711729707,
          1.4925373134328357,
          1.4970059880239521,
          1.5968063872255431,
          1.49402390438247,
          1.2961116650049822,
          0.9970089730807578,
          0.6979062811565333,
          0.5934718100890292,
          0.4940711462450593,
          0.7889546351084784,
          1.0858835143139276,
          1.0869565217391248,
          1.078431372549014,
          0.983284169124877,
          0.5893909626719142,
          0.785083415112853,
          0.7874015748031609,
          0.7897334649555746,
          1.2871287128712843,
          1.081612586037359,
          1.1799410029498554,
          0.9784735812133072,
          0.6835937499999889,
          0.5865102639296271,
          0.3879728419010725,
          0.38948393378772295,
          0.48828125,
          0.5842259006815913,
          0.6835937499999889,
          0.7835455435847319,
          0.684261974584558,
          0.7782101167315147,
          0.38872691933915593,
          0,
          0,
          0.2915451895043704,
          0.4830917874396135,
          0.4849660523763337,
          0.5830903790087408,
          0.38722168441433275,
          0.4849660523763337,
          0.4859086491739553,
          0.5825242718446546,
          0.5791505791505874,
          0.9680542110358179,
          1.4534883720930232,
          1.7458777885548122,
          1.744186046511625,
          1.6346153846153875,
          1.8339768339768396,
          2.2222222222222197,
          2.9893924783027908,
          3.3783783783783785,
          3.0947775628626584,
          4.343629343629344,
          4.798464491362764,
          5.369127516778532,
          6.685768863419293,
          7.435653002859863,
          8.190476190476186,
          8.703878902554402,
          8.909952606635077,
          10.018903591682427,
          10.112359550561795,
          8.870214752567694,
          8.724202626641663,
          7.678075855689187,
          7.600732600732598,
          6.733393994540483,
          5.282005371530878,
          2.928127772848267,
          2.4647887323943762,
          3.1331592689294987,
          2.4369016536118338,
          0.8591065292096219,
          0.08503401360544943,
          0.6003430531732443,
          0.6902502157031899
         ],
         "yaxis": "y"
        },
        {
         "hovertemplate": "Rate Type=exp_inflation<br>Year and month=%{x}<br>Inflation Rate=%{y}<extra></extra>",
         "legendgroup": "exp_inflation",
         "line": {
          "color": "#EF553B",
          "dash": "solid"
         },
         "marker": {
          "symbol": "circle"
         },
         "mode": "lines",
         "name": "Expected Inflation",
         "orientation": "v",
         "showlegend": true,
         "type": "scatter",
         "x": [
          "2007M01",
          "2007M02",
          "2007M03",
          "2007M04",
          "2007M05",
          "2007M06",
          "2007M07",
          "2007M08",
          "2007M09",
          "2007M10",
          "2007M11",
          "2007M12",
          "2008M01",
          "2008M02",
          "2008M03",
          "2008M04",
          "2008M05",
          "2008M06",
          "2008M07",
          "2008M08",
          "2008M09",
          "2008M10",
          "2008M11",
          "2008M12",
          "2009M01",
          "2009M02",
          "2009M03",
          "2009M04",
          "2009M05",
          "2009M06",
          "2009M07",
          "2009M08",
          "2009M09",
          "2009M10",
          "2009M11",
          "2009M12",
          "2010M01",
          "2010M02",
          "2010M03",
          "2010M04",
          "2010M05",
          "2010M06",
          "2010M07",
          "2010M08",
          "2010M09",
          "2010M10",
          "2010M11",
          "2010M12",
          "2011M01",
          "2011M02",
          "2011M03",
          "2011M04",
          "2011M05",
          "2011M06",
          "2011M07",
          "2011M08",
          "2011M09",
          "2011M10",
          "2011M11",
          "2011M12",
          "2012M01",
          "2012M02",
          "2012M03",
          "2012M04",
          "2012M05",
          "2012M06",
          "2012M07",
          "2012M08",
          "2012M09",
          "2012M10",
          "2012M11",
          "2012M12",
          "2013M01",
          "2013M02",
          "2013M03",
          "2013M04",
          "2013M05",
          "2013M06",
          "2013M07",
          "2013M08",
          "2013M09",
          "2013M10",
          "2013M11",
          "2013M12",
          "2014M01",
          "2014M02",
          "2014M03",
          "2014M04",
          "2014M05",
          "2014M06",
          "2014M07",
          "2014M08",
          "2014M09",
          "2014M10",
          "2014M11",
          "2014M12",
          "2015M01",
          "2015M02",
          "2015M03",
          "2015M04",
          "2015M05",
          "2015M06",
          "2015M07",
          "2015M08",
          "2015M09",
          "2015M10",
          "2015M11",
          "2015M12",
          "2016M01",
          "2016M02",
          "2016M03",
          "2016M04",
          "2016M05",
          "2016M06",
          "2016M07",
          "2016M08",
          "2016M09",
          "2016M10",
          "2016M11",
          "2016M12",
          "2017M01",
          "2017M02",
          "2017M03",
          "2017M04",
          "2017M05",
          "2017M06",
          "2017M07",
          "2017M08",
          "2017M09",
          "2017M10",
          "2017M11",
          "2017M12",
          "2018M01",
          "2018M02",
          "2018M03",
          "2018M04",
          "2018M05",
          "2018M06",
          "2018M07",
          "2018M08",
          "2018M09",
          "2018M10",
          "2018M11",
          "2018M12",
          "2019M01",
          "2019M02",
          "2019M03",
          "2019M04",
          "2019M05",
          "2019M06",
          "2019M07",
          "2019M08",
          "2019M09",
          "2019M10",
          "2019M11",
          "2019M12",
          "2020M01",
          "2020M02",
          "2020M03",
          "2020M04",
          "2020M05",
          "2020M06",
          "2020M07",
          "2020M08",
          "2020M09",
          "2020M10",
          "2020M11",
          "2020M12",
          "2021M01",
          "2021M02",
          "2021M03",
          "2021M04",
          "2021M05",
          "2021M06",
          "2021M07",
          "2021M08",
          "2021M09",
          "2021M10",
          "2021M11",
          "2021M12",
          "2022M01",
          "2022M02",
          "2022M03",
          "2022M04",
          "2022M05",
          "2022M06",
          "2022M07",
          "2022M08",
          "2022M09",
          "2022M10",
          "2022M11",
          "2022M12",
          "2023M01",
          "2023M02",
          "2023M03",
          "2023M04",
          "2023M05",
          "2023M06",
          "2023M07",
          "2023M08",
          "2023M09",
          "2023M10",
          "2023M11",
          "2023M12"
         ],
         "xaxis": "x",
         "y": [
          2.184466019417472,
          2.1634615384615348,
          1.9115890083631952,
          1.902497027348405,
          2.021403091557673,
          2.1377672209026097,
          2.021403091557673,
          2.021403091557673,
          1.6528925619834611,
          1.534828807556077,
          1.7772511848341233,
          1.7751479289940828,
          1.7814726840855106,
          1.882352941176464,
          1.9929660023446694,
          1.6336056009334787,
          1.7482517482517483,
          1.3953488372093057,
          1.1655011655011656,
          0.9324009324009291,
          1.2775842044134826,
          1.744186046511628,
          2.4447031431897486,
          2.3255813953488373,
          2.9171528588098017,
          3.1177829099307197,
          3.1034482758620725,
          3.3295063145809483,
          3.436426116838488,
          3.7844036697247674,
          4.032258064516129,
          4.3879907621247245,
          4.1284403669724705,
          3.65714285714286,
          2.7272727272727337,
          2.38636363636363,
          1.8140589569160932,
          1.7917133258678708,
          1.6722408026755853,
          1.2222222222222159,
          1.2181616832779718,
          1.2154696132596623,
          0.9966777408637937,
          1.1061946902654867,
          0.8810572687224639,
          0.9922822491730886,
          1.3274336283185715,
          1.4428412874583922,
          2.0044543429844066,
          1.980198019801977,
          2.302631578947362,
          2.524698133918783,
          2.1881838074398248,
          1.8558951965065535,
          2.1929824561403506,
          2.4070021881837946,
          2.510917030567698,
          2.401746724890833,
          2.510917030567698,
          2.844638949671766,
          2.7292576419213974,
          2.6968716289104635,
          2.679528403001072,
          2.99785867237687,
          3.1049250535331816,
          3.001071811361198,
          3.004291845493559,
          2.56410256410257,
          2.5559105431309814,
          2.77185501066099,
          2.5559105431309814,
          2.4468085106382946,
          2.763018065887363,
          2.731092436974784,
          2.6096033402922756,
          2.1829521829521767,
          2.180685358255461,
          2.1852237252861695,
          2.2916666666666696,
          2.604166666666667,
          2.492211838006236,
          2.3858921161825695,
          2.284527518172381,
          2.0768431983385254,
          1.2409513960703233,
          1.2269938650306778,
          1.017293997965412,
          0.8138351983723268,
          0.8130081300812979,
          0.9164969450101746,
          0.6109979633401164,
          0.4060913705583814,
          0.5065856129685917,
          0.6079027355623042,
          0.6091370558375577,
          0.7121057985757913,
          1.0214504596527068,
          0.5050505050505051,
          0.3021148036253748,
          0.7063572149344126,
          0.5040322580645161,
          0.6054490413723598,
          0.7085020242915009,
          0.5055611729019212,
          0.5040322580645161,
          0.5035246727089627,
          0.5045408678102926,
          0.40404040404040975,
          -0.10111223458039284,
          0.30150753768843935,
          0.6024096385542255,
          0.501002004008016,
          0.7021063189568734,
          0.6018054162487405,
          0.7035175879397014,
          0.603621730382288,
          0.5015045135406219,
          0.3006012024048068,
          0.30120481927711984,
          0.40241448692152054,
          0.6072874493927213,
          0.3006012024048068,
          0,
          0,
          0.09960159362549234,
          0.29910269192422445,
          0.29940119760478756,
          0.20000000000000281,
          0,
          0.2997002997003111,
          0.4004004004003918,
          0.501002004008016,
          0.905432595573432,
          0.999000999000999,
          0.998003992015968,
          1.096709870388842,
          0.7960199004975096,
          0.5964214711729707,
          1.4925373134328357,
          1.4970059880239521,
          1.5968063872255431,
          1.49402390438247,
          1.2961116650049822,
          0.9970089730807578,
          0.6979062811565333,
          0.5934718100890292,
          0.4940711462450593,
          0.7889546351084784,
          1.0858835143139276,
          1.0869565217391248,
          1.078431372549014,
          0.983284169124877,
          0.5893909626719142,
          0.785083415112853,
          0.7874015748031609,
          0.7897334649555746,
          1.2871287128712843,
          1.081612586037359,
          1.1799410029498554,
          0.9784735812133072,
          0.6835937499999889,
          0.5865102639296271,
          0.3879728419010725,
          0.38948393378772295,
          0.48828125,
          0.5842259006815913,
          0.6835937499999889,
          0.7835455435847319,
          0.684261974584558,
          0.7782101167315147,
          0.38872691933915593,
          0,
          0,
          0.2915451895043704,
          0.4830917874396135,
          0.4849660523763337,
          0.5830903790087408,
          0.38722168441433275,
          0.4849660523763337,
          0.4859086491739553,
          0.5825242718446546,
          0.5791505791505874,
          0.9680542110358179,
          1.4534883720930232,
          1.7458777885548122,
          1.744186046511625,
          1.6346153846153875,
          1.8339768339768396,
          2.2222222222222197,
          2.9893924783027908,
          3.3783783783783785,
          3.0947775628626584,
          4.343629343629344,
          4.798464491362764,
          5.369127516778532,
          6.685768863419293,
          7.435653002859863,
          8.190476190476186,
          8.703878902554402,
          8.909952606635077,
          10.018903591682427,
          10.112359550561795,
          8.870214752567694,
          8.724202626641663
         ],
         "yaxis": "y"
        },
        {
         "hovertemplate": "Rate Type=fluctuation<br>Year and month=%{x}<br>Inflation Rate=%{y}<extra></extra>",
         "legendgroup": "fluctuation",
         "line": {
          "color": "#00cc96",
          "dash": "solid"
         },
         "marker": {
          "symbol": "circle"
         },
         "mode": "lines",
         "name": "Fluctuation",
         "orientation": "v",
         "showlegend": true,
         "type": "scatter",
         "x": [
          "2007M01",
          "2007M02",
          "2007M03",
          "2007M04",
          "2007M05",
          "2007M06",
          "2007M07",
          "2007M08",
          "2007M09",
          "2007M10",
          "2007M11",
          "2007M12",
          "2008M01",
          "2008M02",
          "2008M03",
          "2008M04",
          "2008M05",
          "2008M06",
          "2008M07",
          "2008M08",
          "2008M09",
          "2008M10",
          "2008M11",
          "2008M12",
          "2009M01",
          "2009M02",
          "2009M03",
          "2009M04",
          "2009M05",
          "2009M06",
          "2009M07",
          "2009M08",
          "2009M09",
          "2009M10",
          "2009M11",
          "2009M12",
          "2010M01",
          "2010M02",
          "2010M03",
          "2010M04",
          "2010M05",
          "2010M06",
          "2010M07",
          "2010M08",
          "2010M09",
          "2010M10",
          "2010M11",
          "2010M12",
          "2011M01",
          "2011M02",
          "2011M03",
          "2011M04",
          "2011M05",
          "2011M06",
          "2011M07",
          "2011M08",
          "2011M09",
          "2011M10",
          "2011M11",
          "2011M12",
          "2012M01",
          "2012M02",
          "2012M03",
          "2012M04",
          "2012M05",
          "2012M06",
          "2012M07",
          "2012M08",
          "2012M09",
          "2012M10",
          "2012M11",
          "2012M12",
          "2013M01",
          "2013M02",
          "2013M03",
          "2013M04",
          "2013M05",
          "2013M06",
          "2013M07",
          "2013M08",
          "2013M09",
          "2013M10",
          "2013M11",
          "2013M12",
          "2014M01",
          "2014M02",
          "2014M03",
          "2014M04",
          "2014M05",
          "2014M06",
          "2014M07",
          "2014M08",
          "2014M09",
          "2014M10",
          "2014M11",
          "2014M12",
          "2015M01",
          "2015M02",
          "2015M03",
          "2015M04",
          "2015M05",
          "2015M06",
          "2015M07",
          "2015M08",
          "2015M09",
          "2015M10",
          "2015M11",
          "2015M12",
          "2016M01",
          "2016M02",
          "2016M03",
          "2016M04",
          "2016M05",
          "2016M06",
          "2016M07",
          "2016M08",
          "2016M09",
          "2016M10",
          "2016M11",
          "2016M12",
          "2017M01",
          "2017M02",
          "2017M03",
          "2017M04",
          "2017M05",
          "2017M06",
          "2017M07",
          "2017M08",
          "2017M09",
          "2017M10",
          "2017M11",
          "2017M12",
          "2018M01",
          "2018M02",
          "2018M03",
          "2018M04",
          "2018M05",
          "2018M06",
          "2018M07",
          "2018M08",
          "2018M09",
          "2018M10",
          "2018M11",
          "2018M12",
          "2019M01",
          "2019M02",
          "2019M03",
          "2019M04",
          "2019M05",
          "2019M06",
          "2019M07",
          "2019M08",
          "2019M09",
          "2019M10",
          "2019M11",
          "2019M12",
          "2020M01",
          "2020M02",
          "2020M03",
          "2020M04",
          "2020M05",
          "2020M06",
          "2020M07",
          "2020M08",
          "2020M09",
          "2020M10",
          "2020M11",
          "2020M12",
          "2021M01",
          "2021M02",
          "2021M03",
          "2021M04",
          "2021M05",
          "2021M06",
          "2021M07",
          "2021M08",
          "2021M09",
          "2021M10",
          "2021M11",
          "2021M12",
          "2022M01",
          "2022M02",
          "2022M03",
          "2022M04",
          "2022M05",
          "2022M06",
          "2022M07",
          "2022M08",
          "2022M09",
          "2022M10",
          "2022M11",
          "2022M12",
          "2023M01",
          "2023M02",
          "2023M03",
          "2023M04",
          "2023M05",
          "2023M06",
          "2023M07",
          "2023M08",
          "2023M09",
          "2023M10",
          "2023M11",
          "2023M12"
         ],
         "xaxis": "x",
         "y": [
          -0.40299333533196147,
          -0.28110859728507087,
          0.08137699398147413,
          -0.26889142641492625,
          -0.2731513433059245,
          -0.742418383693304,
          -0.8559019260565073,
          -1.0890021591567436,
          -0.3753083575699785,
          0.20935723895555092,
          0.6674519583556253,
          0.5504334663547545,
          1.135680174724291,
          1.2354299687542558,
          1.1104822735174031,
          1.6959007136474695,
          1.6881743685867399,
          2.3890548325154617,
          2.8667568990149634,
          3.4555898297237952,
          2.850856162558988,
          1.9129568106312322,
          0.28256958408298516,
          0.06078224101479268,
          -1.1030939018937085,
          -1.326069584062849,
          -1.4312074731864872,
          -2.107284092358732,
          -2.2182644335605164,
          -2.568934056465105,
          -3.0355803236523355,
          -3.2817960718592376,
          -3.2473830982500065,
          -2.6648606079697714,
          -1.3998390989541623,
          -0.9435223489052378,
          0.1903953860683134,
          0.18848469393410627,
          0.6303907762717766,
          1.3024759116965672,
          0.970022124161853,
          0.6404255832468913,
          1.196304715276557,
          1.300807497918308,
          1.6298597618452342,
          1.4094644757177441,
          1.1834834022491267,
          1.4017976622133737,
          0.7248032989369908,
          0.7166736091084864,
          0.37689682405371006,
          0.47316053845808703,
          0.9167412460933568,
          1.1451766148546443,
          0.8113093893532084,
          0.15710037591877546,
          0.04499351256328321,
          0.370108285770157,
          0.04499351256328321,
          -0.39783043903347126,
          0.03376042396596546,
          0.03422080806432071,
          -0.06992506270879639,
          -0.8149064894246933,
          -0.9242396952777208,
          -0.8158480860750283,
          -0.7126251788268894,
          0.04006410256409687,
          -0.06369870512474529,
          -0.38596289447842036,
          -0.2713830249586002,
          -0.36996531229976926,
          -1.5220666698170395,
          -1.5040985719441065,
          -1.5923093423268635,
          -1.36911698457985,
          -1.367677228174163,
          -1.268726780275995,
          -1.6806687033265533,
          -2.1980752961082857,
          -1.9856262250376444,
          -1.7779893806202653,
          -1.6753904623348235,
          -1.3647373997627341,
          -0.2195009364176166,
          -0.7219433599801727,
          -0.7151791943400373,
          -0.10747798343791415,
          -0.3089758720167818,
          -0.31104790363781487,
          0.09750406095138453,
          0.09946980234353975,
          -0.0025533549040756,
          -0.1043780628533415,
          -0.10459618802726511,
          -0.3080653945353815,
          -1.1225626942330995,
          -0.20354296736206573,
          0.3002948349288507,
          -0.20535521092639664,
          0.19807406089235724,
          -0.003643625123619265,
          -0.004984436351799459,
          0.0980605574803668,
          -0.0025277445238942597,
          -0.20292347030415592,
          -0.20333604853317278,
          -0.0016259171188892085,
          0.7083996839731141,
          -0.0009063352836325422,
          -0.6024096385542255,
          -0.501002004008016,
          -0.602504725331381,
          -0.30270272432451606,
          -0.40411639033491387,
          -0.4036217303822851,
          -0.5015045135406219,
          -0.0009009027044957207,
          0.09919558112327198,
          0.09858751708649544,
          0.29814514618071075,
          0.6983997965961922,
          0.998003992015968,
          1.096709870388842,
          0.6964183068720172,
          0.2973187792487463,
          1.193136115828048,
          1.2970059880239493,
          1.5968063872255431,
          1.1943236046821588,
          0.8957112646045904,
          0.4960069690727418,
          -0.20752631441689873,
          -0.4055291889119699,
          -0.5039328457709087,
          -0.30775523528036364,
          0.289863613816418,
          0.4905350505661541,
          -0.4141059408838217,
          -0.5137218188990751,
          -1.007415424553629,
          -0.708940489269617,
          -0.5087100902018213,
          -0.20727550812518314,
          0.589222431714751,
          0.48814077594832994,
          0.685869856704796,
          0.18951894610482878,
          -0.4022897643139387,
          -0.5004462578094977,
          -0.6904585306479415,
          -0.5938002353371541,
          -0.10110971267191415,
          -0.20085751443126165,
          -0.10380782480317197,
          -0.006187921370842675,
          -0.6028667382867263,
          -0.30340246930584436,
          -0.7912140836106994,
          -0.9784735812133072,
          -0.6835937499999889,
          -0.2949650744252567,
          0.095118945538541,
          0.09548211858861078,
          0.09480912900874083,
          -0.19700421626725856,
          -0.19862769762365518,
          -0.2976368944107766,
          -0.10173770273990335,
          -0.19905953758092731,
          0.579327291696662,
          1.4534883720930232,
          1.7458777885548122,
          1.4526408570072546,
          1.151523597175774,
          1.349010781600506,
          1.639131843213479,
          2.602170793888458,
          2.8934123260020446,
          2.608868913688703,
          3.761105071784689,
          4.2193139122121766,
          4.401073305742714,
          5.23228049132627,
          5.689775214305051,
          6.4462901439645615,
          7.069263517939015,
          7.0759757726582375,
          7.796681369460208,
          7.122967072259004,
          5.491836374189315,
          5.629425063779005,
          3.334446512059843,
          2.802268109369834,
          1.3642664777619515,
          -1.403763491888415,
          -4.507525230011596,
          -5.72568745808181,
          -5.570719633624904,
          -6.473050953023243,
          -9.159797062472805,
          -10.027325536956345,
          -8.26987169939445,
          -8.033952410938474
         ],
         "yaxis": "y"
        }
       ],
       "layout": {
        "legend": {
         "title": {
          "text": "Rate Type"
         },
         "tracegroupgap": 0
        },
        "template": {
         "data": {
          "bar": [
           {
            "error_x": {
             "color": "#2a3f5f"
            },
            "error_y": {
             "color": "#2a3f5f"
            },
            "marker": {
             "line": {
              "color": "#E5ECF6",
              "width": 0.5
             },
             "pattern": {
              "fillmode": "overlay",
              "size": 10,
              "solidity": 0.2
             }
            },
            "type": "bar"
           }
          ],
          "barpolar": [
           {
            "marker": {
             "line": {
              "color": "#E5ECF6",
              "width": 0.5
             },
             "pattern": {
              "fillmode": "overlay",
              "size": 10,
              "solidity": 0.2
             }
            },
            "type": "barpolar"
           }
          ],
          "carpet": [
           {
            "aaxis": {
             "endlinecolor": "#2a3f5f",
             "gridcolor": "white",
             "linecolor": "white",
             "minorgridcolor": "white",
             "startlinecolor": "#2a3f5f"
            },
            "baxis": {
             "endlinecolor": "#2a3f5f",
             "gridcolor": "white",
             "linecolor": "white",
             "minorgridcolor": "white",
             "startlinecolor": "#2a3f5f"
            },
            "type": "carpet"
           }
          ],
          "choropleth": [
           {
            "colorbar": {
             "outlinewidth": 0,
             "ticks": ""
            },
            "type": "choropleth"
           }
          ],
          "contour": [
           {
            "colorbar": {
             "outlinewidth": 0,
             "ticks": ""
            },
            "colorscale": [
             [
              0,
              "#0d0887"
             ],
             [
              0.1111111111111111,
              "#46039f"
             ],
             [
              0.2222222222222222,
              "#7201a8"
             ],
             [
              0.3333333333333333,
              "#9c179e"
             ],
             [
              0.4444444444444444,
              "#bd3786"
             ],
             [
              0.5555555555555556,
              "#d8576b"
             ],
             [
              0.6666666666666666,
              "#ed7953"
             ],
             [
              0.7777777777777778,
              "#fb9f3a"
             ],
             [
              0.8888888888888888,
              "#fdca26"
             ],
             [
              1,
              "#f0f921"
             ]
            ],
            "type": "contour"
           }
          ],
          "contourcarpet": [
           {
            "colorbar": {
             "outlinewidth": 0,
             "ticks": ""
            },
            "type": "contourcarpet"
           }
          ],
          "heatmap": [
           {
            "colorbar": {
             "outlinewidth": 0,
             "ticks": ""
            },
            "colorscale": [
             [
              0,
              "#0d0887"
             ],
             [
              0.1111111111111111,
              "#46039f"
             ],
             [
              0.2222222222222222,
              "#7201a8"
             ],
             [
              0.3333333333333333,
              "#9c179e"
             ],
             [
              0.4444444444444444,
              "#bd3786"
             ],
             [
              0.5555555555555556,
              "#d8576b"
             ],
             [
              0.6666666666666666,
              "#ed7953"
             ],
             [
              0.7777777777777778,
              "#fb9f3a"
             ],
             [
              0.8888888888888888,
              "#fdca26"
             ],
             [
              1,
              "#f0f921"
             ]
            ],
            "type": "heatmap"
           }
          ],
          "heatmapgl": [
           {
            "colorbar": {
             "outlinewidth": 0,
             "ticks": ""
            },
            "colorscale": [
             [
              0,
              "#0d0887"
             ],
             [
              0.1111111111111111,
              "#46039f"
             ],
             [
              0.2222222222222222,
              "#7201a8"
             ],
             [
              0.3333333333333333,
              "#9c179e"
             ],
             [
              0.4444444444444444,
              "#bd3786"
             ],
             [
              0.5555555555555556,
              "#d8576b"
             ],
             [
              0.6666666666666666,
              "#ed7953"
             ],
             [
              0.7777777777777778,
              "#fb9f3a"
             ],
             [
              0.8888888888888888,
              "#fdca26"
             ],
             [
              1,
              "#f0f921"
             ]
            ],
            "type": "heatmapgl"
           }
          ],
          "histogram": [
           {
            "marker": {
             "pattern": {
              "fillmode": "overlay",
              "size": 10,
              "solidity": 0.2
             }
            },
            "type": "histogram"
           }
          ],
          "histogram2d": [
           {
            "colorbar": {
             "outlinewidth": 0,
             "ticks": ""
            },
            "colorscale": [
             [
              0,
              "#0d0887"
             ],
             [
              0.1111111111111111,
              "#46039f"
             ],
             [
              0.2222222222222222,
              "#7201a8"
             ],
             [
              0.3333333333333333,
              "#9c179e"
             ],
             [
              0.4444444444444444,
              "#bd3786"
             ],
             [
              0.5555555555555556,
              "#d8576b"
             ],
             [
              0.6666666666666666,
              "#ed7953"
             ],
             [
              0.7777777777777778,
              "#fb9f3a"
             ],
             [
              0.8888888888888888,
              "#fdca26"
             ],
             [
              1,
              "#f0f921"
             ]
            ],
            "type": "histogram2d"
           }
          ],
          "histogram2dcontour": [
           {
            "colorbar": {
             "outlinewidth": 0,
             "ticks": ""
            },
            "colorscale": [
             [
              0,
              "#0d0887"
             ],
             [
              0.1111111111111111,
              "#46039f"
             ],
             [
              0.2222222222222222,
              "#7201a8"
             ],
             [
              0.3333333333333333,
              "#9c179e"
             ],
             [
              0.4444444444444444,
              "#bd3786"
             ],
             [
              0.5555555555555556,
              "#d8576b"
             ],
             [
              0.6666666666666666,
              "#ed7953"
             ],
             [
              0.7777777777777778,
              "#fb9f3a"
             ],
             [
              0.8888888888888888,
              "#fdca26"
             ],
             [
              1,
              "#f0f921"
             ]
            ],
            "type": "histogram2dcontour"
           }
          ],
          "mesh3d": [
           {
            "colorbar": {
             "outlinewidth": 0,
             "ticks": ""
            },
            "type": "mesh3d"
           }
          ],
          "parcoords": [
           {
            "line": {
             "colorbar": {
              "outlinewidth": 0,
              "ticks": ""
             }
            },
            "type": "parcoords"
           }
          ],
          "pie": [
           {
            "automargin": true,
            "type": "pie"
           }
          ],
          "scatter": [
           {
            "fillpattern": {
             "fillmode": "overlay",
             "size": 10,
             "solidity": 0.2
            },
            "type": "scatter"
           }
          ],
          "scatter3d": [
           {
            "line": {
             "colorbar": {
              "outlinewidth": 0,
              "ticks": ""
             }
            },
            "marker": {
             "colorbar": {
              "outlinewidth": 0,
              "ticks": ""
             }
            },
            "type": "scatter3d"
           }
          ],
          "scattercarpet": [
           {
            "marker": {
             "colorbar": {
              "outlinewidth": 0,
              "ticks": ""
             }
            },
            "type": "scattercarpet"
           }
          ],
          "scattergeo": [
           {
            "marker": {
             "colorbar": {
              "outlinewidth": 0,
              "ticks": ""
             }
            },
            "type": "scattergeo"
           }
          ],
          "scattergl": [
           {
            "marker": {
             "colorbar": {
              "outlinewidth": 0,
              "ticks": ""
             }
            },
            "type": "scattergl"
           }
          ],
          "scattermapbox": [
           {
            "marker": {
             "colorbar": {
              "outlinewidth": 0,
              "ticks": ""
             }
            },
            "type": "scattermapbox"
           }
          ],
          "scatterpolar": [
           {
            "marker": {
             "colorbar": {
              "outlinewidth": 0,
              "ticks": ""
             }
            },
            "type": "scatterpolar"
           }
          ],
          "scatterpolargl": [
           {
            "marker": {
             "colorbar": {
              "outlinewidth": 0,
              "ticks": ""
             }
            },
            "type": "scatterpolargl"
           }
          ],
          "scatterternary": [
           {
            "marker": {
             "colorbar": {
              "outlinewidth": 0,
              "ticks": ""
             }
            },
            "type": "scatterternary"
           }
          ],
          "surface": [
           {
            "colorbar": {
             "outlinewidth": 0,
             "ticks": ""
            },
            "colorscale": [
             [
              0,
              "#0d0887"
             ],
             [
              0.1111111111111111,
              "#46039f"
             ],
             [
              0.2222222222222222,
              "#7201a8"
             ],
             [
              0.3333333333333333,
              "#9c179e"
             ],
             [
              0.4444444444444444,
              "#bd3786"
             ],
             [
              0.5555555555555556,
              "#d8576b"
             ],
             [
              0.6666666666666666,
              "#ed7953"
             ],
             [
              0.7777777777777778,
              "#fb9f3a"
             ],
             [
              0.8888888888888888,
              "#fdca26"
             ],
             [
              1,
              "#f0f921"
             ]
            ],
            "type": "surface"
           }
          ],
          "table": [
           {
            "cells": {
             "fill": {
              "color": "#EBF0F8"
             },
             "line": {
              "color": "white"
             }
            },
            "header": {
             "fill": {
              "color": "#C8D4E3"
             },
             "line": {
              "color": "white"
             }
            },
            "type": "table"
           }
          ]
         },
         "layout": {
          "annotationdefaults": {
           "arrowcolor": "#2a3f5f",
           "arrowhead": 0,
           "arrowwidth": 1
          },
          "autotypenumbers": "strict",
          "coloraxis": {
           "colorbar": {
            "outlinewidth": 0,
            "ticks": ""
           }
          },
          "colorscale": {
           "diverging": [
            [
             0,
             "#8e0152"
            ],
            [
             0.1,
             "#c51b7d"
            ],
            [
             0.2,
             "#de77ae"
            ],
            [
             0.3,
             "#f1b6da"
            ],
            [
             0.4,
             "#fde0ef"
            ],
            [
             0.5,
             "#f7f7f7"
            ],
            [
             0.6,
             "#e6f5d0"
            ],
            [
             0.7,
             "#b8e186"
            ],
            [
             0.8,
             "#7fbc41"
            ],
            [
             0.9,
             "#4d9221"
            ],
            [
             1,
             "#276419"
            ]
           ],
           "sequential": [
            [
             0,
             "#0d0887"
            ],
            [
             0.1111111111111111,
             "#46039f"
            ],
            [
             0.2222222222222222,
             "#7201a8"
            ],
            [
             0.3333333333333333,
             "#9c179e"
            ],
            [
             0.4444444444444444,
             "#bd3786"
            ],
            [
             0.5555555555555556,
             "#d8576b"
            ],
            [
             0.6666666666666666,
             "#ed7953"
            ],
            [
             0.7777777777777778,
             "#fb9f3a"
            ],
            [
             0.8888888888888888,
             "#fdca26"
            ],
            [
             1,
             "#f0f921"
            ]
           ],
           "sequentialminus": [
            [
             0,
             "#0d0887"
            ],
            [
             0.1111111111111111,
             "#46039f"
            ],
            [
             0.2222222222222222,
             "#7201a8"
            ],
            [
             0.3333333333333333,
             "#9c179e"
            ],
            [
             0.4444444444444444,
             "#bd3786"
            ],
            [
             0.5555555555555556,
             "#d8576b"
            ],
            [
             0.6666666666666666,
             "#ed7953"
            ],
            [
             0.7777777777777778,
             "#fb9f3a"
            ],
            [
             0.8888888888888888,
             "#fdca26"
            ],
            [
             1,
             "#f0f921"
            ]
           ]
          },
          "colorway": [
           "#636efa",
           "#EF553B",
           "#00cc96",
           "#ab63fa",
           "#FFA15A",
           "#19d3f3",
           "#FF6692",
           "#B6E880",
           "#FF97FF",
           "#FECB52"
          ],
          "font": {
           "color": "#2a3f5f"
          },
          "geo": {
           "bgcolor": "white",
           "lakecolor": "white",
           "landcolor": "#E5ECF6",
           "showlakes": true,
           "showland": true,
           "subunitcolor": "white"
          },
          "hoverlabel": {
           "align": "left"
          },
          "hovermode": "closest",
          "mapbox": {
           "style": "light"
          },
          "paper_bgcolor": "white",
          "plot_bgcolor": "#E5ECF6",
          "polar": {
           "angularaxis": {
            "gridcolor": "white",
            "linecolor": "white",
            "ticks": ""
           },
           "bgcolor": "#E5ECF6",
           "radialaxis": {
            "gridcolor": "white",
            "linecolor": "white",
            "ticks": ""
           }
          },
          "scene": {
           "xaxis": {
            "backgroundcolor": "#E5ECF6",
            "gridcolor": "white",
            "gridwidth": 2,
            "linecolor": "white",
            "showbackground": true,
            "ticks": "",
            "zerolinecolor": "white"
           },
           "yaxis": {
            "backgroundcolor": "#E5ECF6",
            "gridcolor": "white",
            "gridwidth": 2,
            "linecolor": "white",
            "showbackground": true,
            "ticks": "",
            "zerolinecolor": "white"
           },
           "zaxis": {
            "backgroundcolor": "#E5ECF6",
            "gridcolor": "white",
            "gridwidth": 2,
            "linecolor": "white",
            "showbackground": true,
            "ticks": "",
            "zerolinecolor": "white"
           }
          },
          "shapedefaults": {
           "line": {
            "color": "#2a3f5f"
           }
          },
          "ternary": {
           "aaxis": {
            "gridcolor": "white",
            "linecolor": "white",
            "ticks": ""
           },
           "baxis": {
            "gridcolor": "white",
            "linecolor": "white",
            "ticks": ""
           },
           "bgcolor": "#E5ECF6",
           "caxis": {
            "gridcolor": "white",
            "linecolor": "white",
            "ticks": ""
           }
          },
          "title": {
           "x": 0.05
          },
          "xaxis": {
           "automargin": true,
           "gridcolor": "white",
           "linecolor": "white",
           "ticks": "",
           "title": {
            "standoff": 15
           },
           "zerolinecolor": "white",
           "zerolinewidth": 2
          },
          "yaxis": {
           "automargin": true,
           "gridcolor": "white",
           "linecolor": "white",
           "ticks": "",
           "title": {
            "standoff": 15
           },
           "zerolinecolor": "white",
           "zerolinewidth": 2
          }
         }
        },
        "title": {
         "text": "Actual Inflation, Expected Inflation and Fluctuation from primo 2007 to ultimo 2023"
        },
        "xaxis": {
         "anchor": "y",
         "domain": [
          0,
          1
         ],
         "tickangle": -45,
         "tickmode": "array",
         "ticktext": [
          "2007M01",
          "2008M01",
          "2009M01",
          "2010M01",
          "2011M01",
          "2012M01",
          "2013M01",
          "2014M01",
          "2015M01",
          "2016M01",
          "2017M01",
          "2018M01",
          "2019M01",
          "2020M01",
          "2021M01",
          "2022M01",
          "2023M01"
         ],
         "tickvals": [
          "2007M01",
          "2008M01",
          "2009M01",
          "2010M01",
          "2011M01",
          "2012M01",
          "2013M01",
          "2014M01",
          "2015M01",
          "2016M01",
          "2017M01",
          "2018M01",
          "2019M01",
          "2020M01",
          "2021M01",
          "2022M01",
          "2023M01"
         ],
         "title": {
          "text": "Year and month"
         }
        },
        "yaxis": {
         "anchor": "x",
         "domain": [
          0,
          1
         ],
         "title": {
          "text": "Inflation Rate"
         }
        }
       }
      }
     },
     "metadata": {},
     "output_type": "display_data"
    }
   ],
   "source": [
    "# Create the interactive plot with plotly for actual and expected inflation\n",
    "fig = px.line(final_dataset, x='year_month', y=['inflation', 'exp_inflation','fluctuation' ], title='Actual Inflation, Expected Inflation and Fluctuation from primo 2007 to ultimo 2023', labels={'value': 'Inflation Rate', 'year_month': 'Year and month', 'variable': 'Rate Type'})\n",
    "\n",
    "# Rename the legends by updating the names of the traces\n",
    "for trace, name in zip(fig.data, ['Actual Inflation', 'Expected Inflation', 'Fluctuation']):\n",
    "    trace.name = name\n",
    "\n",
    "fig.update_layout(xaxis_tickangle=-45, xaxis=dict(tickmode='array', tickvals=final_dataset['year_month'][::12], ticktext=final_dataset['year_month'][::12]))\n",
    "fig.show()"
   ]
  },
  {
   "cell_type": "markdown",
   "metadata": {},
   "source": [
    "In the plot above you can see inflation, expected inflation and fluctuation.\n",
    "\n",
    "Since we assume expected inflation is inflation the year prior, the expected inflation is the same as inflation, but stagerred a year. The inflation is between zero and three percentage after 2009 and until 2021. In 2021 the inflation rose from around zero too ten percentage, afterwards the inflation level falls to under one percentage."
   ]
  },
  {
   "cell_type": "code",
   "execution_count": 18,
   "metadata": {},
   "outputs": [
    {
     "data": {
      "application/vnd.plotly.v1+json": {
       "config": {
        "plotlyServerURL": "https://plot.ly"
       },
       "data": [
        {
         "hovertemplate": "Year and month=%{x}<br>Unemployment Rate=%{y}<extra></extra>",
         "legendgroup": "",
         "line": {
          "color": "#636efa",
          "dash": "solid"
         },
         "marker": {
          "symbol": "circle"
         },
         "mode": "lines",
         "name": "",
         "orientation": "v",
         "showlegend": false,
         "type": "scatter",
         "x": [
          "2007M01",
          "2007M02",
          "2007M03",
          "2007M04",
          "2007M05",
          "2007M06",
          "2007M07",
          "2007M08",
          "2007M09",
          "2007M10",
          "2007M11",
          "2007M12",
          "2008M01",
          "2008M02",
          "2008M03",
          "2008M04",
          "2008M05",
          "2008M06",
          "2008M07",
          "2008M08",
          "2008M09",
          "2008M10",
          "2008M11",
          "2008M12",
          "2009M01",
          "2009M02",
          "2009M03",
          "2009M04",
          "2009M05",
          "2009M06",
          "2009M07",
          "2009M08",
          "2009M09",
          "2009M10",
          "2009M11",
          "2009M12",
          "2010M01",
          "2010M02",
          "2010M03",
          "2010M04",
          "2010M05",
          "2010M06",
          "2010M07",
          "2010M08",
          "2010M09",
          "2010M10",
          "2010M11",
          "2010M12",
          "2011M01",
          "2011M02",
          "2011M03",
          "2011M04",
          "2011M05",
          "2011M06",
          "2011M07",
          "2011M08",
          "2011M09",
          "2011M10",
          "2011M11",
          "2011M12",
          "2012M01",
          "2012M02",
          "2012M03",
          "2012M04",
          "2012M05",
          "2012M06",
          "2012M07",
          "2012M08",
          "2012M09",
          "2012M10",
          "2012M11",
          "2012M12",
          "2013M01",
          "2013M02",
          "2013M03",
          "2013M04",
          "2013M05",
          "2013M06",
          "2013M07",
          "2013M08",
          "2013M09",
          "2013M10",
          "2013M11",
          "2013M12",
          "2014M01",
          "2014M02",
          "2014M03",
          "2014M04",
          "2014M05",
          "2014M06",
          "2014M07",
          "2014M08",
          "2014M09",
          "2014M10",
          "2014M11",
          "2014M12",
          "2015M01",
          "2015M02",
          "2015M03",
          "2015M04",
          "2015M05",
          "2015M06",
          "2015M07",
          "2015M08",
          "2015M09",
          "2015M10",
          "2015M11",
          "2015M12",
          "2016M01",
          "2016M02",
          "2016M03",
          "2016M04",
          "2016M05",
          "2016M06",
          "2016M07",
          "2016M08",
          "2016M09",
          "2016M10",
          "2016M11",
          "2016M12",
          "2017M01",
          "2017M02",
          "2017M03",
          "2017M04",
          "2017M05",
          "2017M06",
          "2017M07",
          "2017M08",
          "2017M09",
          "2017M10",
          "2017M11",
          "2017M12",
          "2018M01",
          "2018M02",
          "2018M03",
          "2018M04",
          "2018M05",
          "2018M06",
          "2018M07",
          "2018M08",
          "2018M09",
          "2018M10",
          "2018M11",
          "2018M12",
          "2019M01",
          "2019M02",
          "2019M03",
          "2019M04",
          "2019M05",
          "2019M06",
          "2019M07",
          "2019M08",
          "2019M09",
          "2019M10",
          "2019M11",
          "2019M12",
          "2020M01",
          "2020M02",
          "2020M03",
          "2020M04",
          "2020M05",
          "2020M06",
          "2020M07",
          "2020M08",
          "2020M09",
          "2020M10",
          "2020M11",
          "2020M12",
          "2021M01",
          "2021M02",
          "2021M03",
          "2021M04",
          "2021M05",
          "2021M06",
          "2021M07",
          "2021M08",
          "2021M09",
          "2021M10",
          "2021M11",
          "2021M12",
          "2022M01",
          "2022M02",
          "2022M03",
          "2022M04",
          "2022M05",
          "2022M06",
          "2022M07",
          "2022M08",
          "2022M09",
          "2022M10",
          "2022M11",
          "2022M12",
          "2023M01",
          "2023M02",
          "2023M03",
          "2023M04",
          "2023M05",
          "2023M06",
          "2023M07",
          "2023M08",
          "2023M09",
          "2023M10",
          "2023M11",
          "2023M12"
         ],
         "xaxis": "x",
         "y": [
          4.3,
          4.1,
          3.9,
          3.9,
          3.8,
          3.6,
          3.6,
          3.5,
          3.4,
          3.2,
          3.1,
          3,
          2.9,
          2.7,
          2.6,
          2.5,
          2.4,
          2.4,
          2.5,
          2.5,
          2.6,
          2.7,
          2.9,
          3.1,
          3.4,
          3.7,
          4.1,
          4.5,
          4.7,
          5,
          5,
          5.2,
          5.4,
          5.6,
          5.7,
          5.7,
          5.9,
          6,
          6.1,
          6,
          6,
          6.1,
          6.1,
          6.2,
          6.1,
          6.1,
          6,
          6.1,
          6.1,
          6,
          6,
          5.9,
          6,
          6,
          6,
          6,
          5.9,
          5.9,
          5.8,
          5.8,
          5.9,
          6,
          6.1,
          6.2,
          6.2,
          6.2,
          6.1,
          6.1,
          6.1,
          6,
          6,
          6,
          5.9,
          5.9,
          5.9,
          6,
          5.8,
          5.8,
          5.7,
          5.7,
          5.6,
          5.6,
          5.6,
          5.6,
          5.2,
          5.2,
          5.1,
          5.1,
          5,
          5,
          5,
          4.9,
          4.9,
          4.9,
          4.8,
          4.8,
          4.7,
          4.7,
          4.7,
          4.7,
          4.7,
          4.6,
          4.5,
          4.5,
          4.4,
          4.4,
          4.3,
          4.3,
          4.2,
          4.2,
          4.2,
          4.1,
          4.1,
          4.1,
          4.1,
          4,
          4.1,
          4.1,
          4.1,
          4.2,
          4.2,
          4.2,
          4.2,
          4.2,
          4.2,
          4.2,
          4.3,
          4.3,
          4.2,
          4.2,
          4.1,
          4.1,
          4,
          3.9,
          4,
          3.9,
          3.9,
          3.8,
          3.8,
          3.8,
          3.8,
          3.8,
          3.8,
          3.7,
          3.7,
          3.6,
          3.6,
          3.6,
          3.6,
          3.7,
          3.6,
          3.7,
          3.7,
          3.7,
          3.7,
          3.7,
          3.7,
          3.6,
          4.1,
          5.3,
          5.4,
          5.3,
          5,
          4.8,
          4.7,
          4.7,
          4.6,
          4.5,
          4.4,
          4.5,
          4.3,
          4.1,
          3.9,
          3.7,
          3.5,
          3.3,
          3.2,
          3,
          2.8,
          2.6,
          2.5,
          2.5,
          2.4,
          2.4,
          2.4,
          2.5,
          2.6,
          2.6,
          2.6,
          2.6,
          2.6,
          2.7,
          2.7,
          2.7,
          2.7,
          2.7,
          2.8,
          2.8,
          2.8,
          2.8,
          2.8,
          2.8,
          2.9,
          2.9
         ],
         "yaxis": "y"
        }
       ],
       "layout": {
        "legend": {
         "tracegroupgap": 0
        },
        "template": {
         "data": {
          "bar": [
           {
            "error_x": {
             "color": "#2a3f5f"
            },
            "error_y": {
             "color": "#2a3f5f"
            },
            "marker": {
             "line": {
              "color": "#E5ECF6",
              "width": 0.5
             },
             "pattern": {
              "fillmode": "overlay",
              "size": 10,
              "solidity": 0.2
             }
            },
            "type": "bar"
           }
          ],
          "barpolar": [
           {
            "marker": {
             "line": {
              "color": "#E5ECF6",
              "width": 0.5
             },
             "pattern": {
              "fillmode": "overlay",
              "size": 10,
              "solidity": 0.2
             }
            },
            "type": "barpolar"
           }
          ],
          "carpet": [
           {
            "aaxis": {
             "endlinecolor": "#2a3f5f",
             "gridcolor": "white",
             "linecolor": "white",
             "minorgridcolor": "white",
             "startlinecolor": "#2a3f5f"
            },
            "baxis": {
             "endlinecolor": "#2a3f5f",
             "gridcolor": "white",
             "linecolor": "white",
             "minorgridcolor": "white",
             "startlinecolor": "#2a3f5f"
            },
            "type": "carpet"
           }
          ],
          "choropleth": [
           {
            "colorbar": {
             "outlinewidth": 0,
             "ticks": ""
            },
            "type": "choropleth"
           }
          ],
          "contour": [
           {
            "colorbar": {
             "outlinewidth": 0,
             "ticks": ""
            },
            "colorscale": [
             [
              0,
              "#0d0887"
             ],
             [
              0.1111111111111111,
              "#46039f"
             ],
             [
              0.2222222222222222,
              "#7201a8"
             ],
             [
              0.3333333333333333,
              "#9c179e"
             ],
             [
              0.4444444444444444,
              "#bd3786"
             ],
             [
              0.5555555555555556,
              "#d8576b"
             ],
             [
              0.6666666666666666,
              "#ed7953"
             ],
             [
              0.7777777777777778,
              "#fb9f3a"
             ],
             [
              0.8888888888888888,
              "#fdca26"
             ],
             [
              1,
              "#f0f921"
             ]
            ],
            "type": "contour"
           }
          ],
          "contourcarpet": [
           {
            "colorbar": {
             "outlinewidth": 0,
             "ticks": ""
            },
            "type": "contourcarpet"
           }
          ],
          "heatmap": [
           {
            "colorbar": {
             "outlinewidth": 0,
             "ticks": ""
            },
            "colorscale": [
             [
              0,
              "#0d0887"
             ],
             [
              0.1111111111111111,
              "#46039f"
             ],
             [
              0.2222222222222222,
              "#7201a8"
             ],
             [
              0.3333333333333333,
              "#9c179e"
             ],
             [
              0.4444444444444444,
              "#bd3786"
             ],
             [
              0.5555555555555556,
              "#d8576b"
             ],
             [
              0.6666666666666666,
              "#ed7953"
             ],
             [
              0.7777777777777778,
              "#fb9f3a"
             ],
             [
              0.8888888888888888,
              "#fdca26"
             ],
             [
              1,
              "#f0f921"
             ]
            ],
            "type": "heatmap"
           }
          ],
          "heatmapgl": [
           {
            "colorbar": {
             "outlinewidth": 0,
             "ticks": ""
            },
            "colorscale": [
             [
              0,
              "#0d0887"
             ],
             [
              0.1111111111111111,
              "#46039f"
             ],
             [
              0.2222222222222222,
              "#7201a8"
             ],
             [
              0.3333333333333333,
              "#9c179e"
             ],
             [
              0.4444444444444444,
              "#bd3786"
             ],
             [
              0.5555555555555556,
              "#d8576b"
             ],
             [
              0.6666666666666666,
              "#ed7953"
             ],
             [
              0.7777777777777778,
              "#fb9f3a"
             ],
             [
              0.8888888888888888,
              "#fdca26"
             ],
             [
              1,
              "#f0f921"
             ]
            ],
            "type": "heatmapgl"
           }
          ],
          "histogram": [
           {
            "marker": {
             "pattern": {
              "fillmode": "overlay",
              "size": 10,
              "solidity": 0.2
             }
            },
            "type": "histogram"
           }
          ],
          "histogram2d": [
           {
            "colorbar": {
             "outlinewidth": 0,
             "ticks": ""
            },
            "colorscale": [
             [
              0,
              "#0d0887"
             ],
             [
              0.1111111111111111,
              "#46039f"
             ],
             [
              0.2222222222222222,
              "#7201a8"
             ],
             [
              0.3333333333333333,
              "#9c179e"
             ],
             [
              0.4444444444444444,
              "#bd3786"
             ],
             [
              0.5555555555555556,
              "#d8576b"
             ],
             [
              0.6666666666666666,
              "#ed7953"
             ],
             [
              0.7777777777777778,
              "#fb9f3a"
             ],
             [
              0.8888888888888888,
              "#fdca26"
             ],
             [
              1,
              "#f0f921"
             ]
            ],
            "type": "histogram2d"
           }
          ],
          "histogram2dcontour": [
           {
            "colorbar": {
             "outlinewidth": 0,
             "ticks": ""
            },
            "colorscale": [
             [
              0,
              "#0d0887"
             ],
             [
              0.1111111111111111,
              "#46039f"
             ],
             [
              0.2222222222222222,
              "#7201a8"
             ],
             [
              0.3333333333333333,
              "#9c179e"
             ],
             [
              0.4444444444444444,
              "#bd3786"
             ],
             [
              0.5555555555555556,
              "#d8576b"
             ],
             [
              0.6666666666666666,
              "#ed7953"
             ],
             [
              0.7777777777777778,
              "#fb9f3a"
             ],
             [
              0.8888888888888888,
              "#fdca26"
             ],
             [
              1,
              "#f0f921"
             ]
            ],
            "type": "histogram2dcontour"
           }
          ],
          "mesh3d": [
           {
            "colorbar": {
             "outlinewidth": 0,
             "ticks": ""
            },
            "type": "mesh3d"
           }
          ],
          "parcoords": [
           {
            "line": {
             "colorbar": {
              "outlinewidth": 0,
              "ticks": ""
             }
            },
            "type": "parcoords"
           }
          ],
          "pie": [
           {
            "automargin": true,
            "type": "pie"
           }
          ],
          "scatter": [
           {
            "fillpattern": {
             "fillmode": "overlay",
             "size": 10,
             "solidity": 0.2
            },
            "type": "scatter"
           }
          ],
          "scatter3d": [
           {
            "line": {
             "colorbar": {
              "outlinewidth": 0,
              "ticks": ""
             }
            },
            "marker": {
             "colorbar": {
              "outlinewidth": 0,
              "ticks": ""
             }
            },
            "type": "scatter3d"
           }
          ],
          "scattercarpet": [
           {
            "marker": {
             "colorbar": {
              "outlinewidth": 0,
              "ticks": ""
             }
            },
            "type": "scattercarpet"
           }
          ],
          "scattergeo": [
           {
            "marker": {
             "colorbar": {
              "outlinewidth": 0,
              "ticks": ""
             }
            },
            "type": "scattergeo"
           }
          ],
          "scattergl": [
           {
            "marker": {
             "colorbar": {
              "outlinewidth": 0,
              "ticks": ""
             }
            },
            "type": "scattergl"
           }
          ],
          "scattermapbox": [
           {
            "marker": {
             "colorbar": {
              "outlinewidth": 0,
              "ticks": ""
             }
            },
            "type": "scattermapbox"
           }
          ],
          "scatterpolar": [
           {
            "marker": {
             "colorbar": {
              "outlinewidth": 0,
              "ticks": ""
             }
            },
            "type": "scatterpolar"
           }
          ],
          "scatterpolargl": [
           {
            "marker": {
             "colorbar": {
              "outlinewidth": 0,
              "ticks": ""
             }
            },
            "type": "scatterpolargl"
           }
          ],
          "scatterternary": [
           {
            "marker": {
             "colorbar": {
              "outlinewidth": 0,
              "ticks": ""
             }
            },
            "type": "scatterternary"
           }
          ],
          "surface": [
           {
            "colorbar": {
             "outlinewidth": 0,
             "ticks": ""
            },
            "colorscale": [
             [
              0,
              "#0d0887"
             ],
             [
              0.1111111111111111,
              "#46039f"
             ],
             [
              0.2222222222222222,
              "#7201a8"
             ],
             [
              0.3333333333333333,
              "#9c179e"
             ],
             [
              0.4444444444444444,
              "#bd3786"
             ],
             [
              0.5555555555555556,
              "#d8576b"
             ],
             [
              0.6666666666666666,
              "#ed7953"
             ],
             [
              0.7777777777777778,
              "#fb9f3a"
             ],
             [
              0.8888888888888888,
              "#fdca26"
             ],
             [
              1,
              "#f0f921"
             ]
            ],
            "type": "surface"
           }
          ],
          "table": [
           {
            "cells": {
             "fill": {
              "color": "#EBF0F8"
             },
             "line": {
              "color": "white"
             }
            },
            "header": {
             "fill": {
              "color": "#C8D4E3"
             },
             "line": {
              "color": "white"
             }
            },
            "type": "table"
           }
          ]
         },
         "layout": {
          "annotationdefaults": {
           "arrowcolor": "#2a3f5f",
           "arrowhead": 0,
           "arrowwidth": 1
          },
          "autotypenumbers": "strict",
          "coloraxis": {
           "colorbar": {
            "outlinewidth": 0,
            "ticks": ""
           }
          },
          "colorscale": {
           "diverging": [
            [
             0,
             "#8e0152"
            ],
            [
             0.1,
             "#c51b7d"
            ],
            [
             0.2,
             "#de77ae"
            ],
            [
             0.3,
             "#f1b6da"
            ],
            [
             0.4,
             "#fde0ef"
            ],
            [
             0.5,
             "#f7f7f7"
            ],
            [
             0.6,
             "#e6f5d0"
            ],
            [
             0.7,
             "#b8e186"
            ],
            [
             0.8,
             "#7fbc41"
            ],
            [
             0.9,
             "#4d9221"
            ],
            [
             1,
             "#276419"
            ]
           ],
           "sequential": [
            [
             0,
             "#0d0887"
            ],
            [
             0.1111111111111111,
             "#46039f"
            ],
            [
             0.2222222222222222,
             "#7201a8"
            ],
            [
             0.3333333333333333,
             "#9c179e"
            ],
            [
             0.4444444444444444,
             "#bd3786"
            ],
            [
             0.5555555555555556,
             "#d8576b"
            ],
            [
             0.6666666666666666,
             "#ed7953"
            ],
            [
             0.7777777777777778,
             "#fb9f3a"
            ],
            [
             0.8888888888888888,
             "#fdca26"
            ],
            [
             1,
             "#f0f921"
            ]
           ],
           "sequentialminus": [
            [
             0,
             "#0d0887"
            ],
            [
             0.1111111111111111,
             "#46039f"
            ],
            [
             0.2222222222222222,
             "#7201a8"
            ],
            [
             0.3333333333333333,
             "#9c179e"
            ],
            [
             0.4444444444444444,
             "#bd3786"
            ],
            [
             0.5555555555555556,
             "#d8576b"
            ],
            [
             0.6666666666666666,
             "#ed7953"
            ],
            [
             0.7777777777777778,
             "#fb9f3a"
            ],
            [
             0.8888888888888888,
             "#fdca26"
            ],
            [
             1,
             "#f0f921"
            ]
           ]
          },
          "colorway": [
           "#636efa",
           "#EF553B",
           "#00cc96",
           "#ab63fa",
           "#FFA15A",
           "#19d3f3",
           "#FF6692",
           "#B6E880",
           "#FF97FF",
           "#FECB52"
          ],
          "font": {
           "color": "#2a3f5f"
          },
          "geo": {
           "bgcolor": "white",
           "lakecolor": "white",
           "landcolor": "#E5ECF6",
           "showlakes": true,
           "showland": true,
           "subunitcolor": "white"
          },
          "hoverlabel": {
           "align": "left"
          },
          "hovermode": "closest",
          "mapbox": {
           "style": "light"
          },
          "paper_bgcolor": "white",
          "plot_bgcolor": "#E5ECF6",
          "polar": {
           "angularaxis": {
            "gridcolor": "white",
            "linecolor": "white",
            "ticks": ""
           },
           "bgcolor": "#E5ECF6",
           "radialaxis": {
            "gridcolor": "white",
            "linecolor": "white",
            "ticks": ""
           }
          },
          "scene": {
           "xaxis": {
            "backgroundcolor": "#E5ECF6",
            "gridcolor": "white",
            "gridwidth": 2,
            "linecolor": "white",
            "showbackground": true,
            "ticks": "",
            "zerolinecolor": "white"
           },
           "yaxis": {
            "backgroundcolor": "#E5ECF6",
            "gridcolor": "white",
            "gridwidth": 2,
            "linecolor": "white",
            "showbackground": true,
            "ticks": "",
            "zerolinecolor": "white"
           },
           "zaxis": {
            "backgroundcolor": "#E5ECF6",
            "gridcolor": "white",
            "gridwidth": 2,
            "linecolor": "white",
            "showbackground": true,
            "ticks": "",
            "zerolinecolor": "white"
           }
          },
          "shapedefaults": {
           "line": {
            "color": "#2a3f5f"
           }
          },
          "ternary": {
           "aaxis": {
            "gridcolor": "white",
            "linecolor": "white",
            "ticks": ""
           },
           "baxis": {
            "gridcolor": "white",
            "linecolor": "white",
            "ticks": ""
           },
           "bgcolor": "#E5ECF6",
           "caxis": {
            "gridcolor": "white",
            "linecolor": "white",
            "ticks": ""
           }
          },
          "title": {
           "x": 0.05
          },
          "xaxis": {
           "automargin": true,
           "gridcolor": "white",
           "linecolor": "white",
           "ticks": "",
           "title": {
            "standoff": 15
           },
           "zerolinecolor": "white",
           "zerolinewidth": 2
          },
          "yaxis": {
           "automargin": true,
           "gridcolor": "white",
           "linecolor": "white",
           "ticks": "",
           "title": {
            "standoff": 15
           },
           "zerolinecolor": "white",
           "zerolinewidth": 2
          }
         }
        },
        "title": {
         "text": "Unemployment rate from primo 2007 to ultimo 2023"
        },
        "xaxis": {
         "anchor": "y",
         "domain": [
          0,
          1
         ],
         "tickangle": -45,
         "tickmode": "array",
         "ticktext": [
          "2007M01",
          "2008M01",
          "2009M01",
          "2010M01",
          "2011M01",
          "2012M01",
          "2013M01",
          "2014M01",
          "2015M01",
          "2016M01",
          "2017M01",
          "2018M01",
          "2019M01",
          "2020M01",
          "2021M01",
          "2022M01",
          "2023M01"
         ],
         "tickvals": [
          "2007M01",
          "2008M01",
          "2009M01",
          "2010M01",
          "2011M01",
          "2012M01",
          "2013M01",
          "2014M01",
          "2015M01",
          "2016M01",
          "2017M01",
          "2018M01",
          "2019M01",
          "2020M01",
          "2021M01",
          "2022M01",
          "2023M01"
         ],
         "title": {
          "text": "Year and month"
         }
        },
        "yaxis": {
         "anchor": "x",
         "domain": [
          0,
          1
         ],
         "title": {
          "text": "Unemployment Rate"
         }
        }
       }
      }
     },
     "metadata": {},
     "output_type": "display_data"
    }
   ],
   "source": [
    "# We make sure that the unemployement variable is numeric\n",
    "final_dataset['unemployment'] = pd.to_numeric(final_dataset['unemployment'], errors='coerce')\n",
    "\n",
    "# Create the interactive plot with plotly\n",
    "fig = px.line(final_dataset, x='year_month', y='unemployment', title='Unemployment rate from primo 2007 to ultimo 2023', labels={'unemployment': 'Unemployment Rate', 'year_month': 'Year and month'})\n",
    "fig.update_layout(xaxis_tickangle=-45, xaxis=dict(tickmode='array', tickvals=final_dataset['year_month'][::12], ticktext=final_dataset['year_month'][::12]))\n",
    "fig.show()"
   ]
  },
  {
   "cell_type": "markdown",
   "metadata": {},
   "source": [
    "In the plot above you can see the unemployement rate. The plot shows that:\n",
    "- From 2007 to 2009 the unemployement rate falls from four to around two percentage.\n",
    "- From 2009 until 2010 the unemployment rises to six percentage. \n",
    "- From 2010 until 2014 the unemployment rate is stabil around five too six percentage. \n",
    "- From 2014 until 2020 the unemployment rate is dropping from five to around three percentage. \n",
    "- After 2020 the unemployement rate rises, but quickly, falls again and is dropping until 2022. \n",
    "- In 2022 the unemployment is slowly rising"
   ]
  },
  {
   "cell_type": "markdown",
   "metadata": {},
   "source": [
    "# Analysis"
   ]
  },
  {
   "cell_type": "markdown",
   "metadata": {},
   "source": [
    "We have now looked at the unemployment rate, the actual inflation and the expected inflation. \n",
    "\n",
    "As previously mentioned the Phillips curve suggests a negative correlation between unemployement and inflation, though new keynisian theories (The New Keynesian Phillips Curve) suggests that fluctuations (difference between actual and expected inflation) has a stronger correlation with unemployement. We therefore make a x,y-plot in order to investigate wheter or not this correlation still exists in Denmark for the given period. Furthermore we make a non-linear regression to see which inflation type fits the Phillips curve best. "
   ]
  },
  {
   "cell_type": "markdown",
   "metadata": {},
   "source": [
    "# The Phillips Curve (with actual inflation)"
   ]
  },
  {
   "cell_type": "code",
   "execution_count": 19,
   "metadata": {},
   "outputs": [
    {
     "data": {
      "image/png": "[encoded data removed]",
      "text/plain": [
       "<Figure size 640x480 with 1 Axes>"
      ]
     },
     "metadata": {},
     "output_type": "display_data"
    }
   ],
   "source": [
    "# We start out by dropping any rows with NaN values (just in case)\n",
    "final_dataset.dropna(subset=['unemployment', 'inflation', 'fluctuation'], inplace=True)\n",
    "\n",
    "# Choose a degree for polynomial fitting (usually 2 or 3 is chosen for the Phillips Curve)\n",
    "degree = 2\n",
    "\n",
    "# Fit a polynomial regression model to the data\n",
    "coefficients = np.polyfit(final_dataset['unemployment'], final_dataset['inflation'], degree)\n",
    "polynomial = np.poly1d(coefficients)\n",
    "\n",
    "# Calculate the regression curve's y-values\n",
    "x_values = np.linspace(final_dataset['unemployment'].min(), final_dataset['unemployment'].max(), 100)\n",
    "y_poly = polynomial(x_values)\n",
    "\n",
    "# Create the scatter plot\n",
    "sns.scatterplot(x='unemployment', y='inflation', data=final_dataset)\n",
    "\n",
    "# Plot the polynomial regression line\n",
    "plt.plot(x_values, y_poly, color='red', label=f'Polynomial Degree {degree} Fit')\n",
    "\n",
    "# Add labels and title\n",
    "plt.xlabel('Unemployment Rate (%)')\n",
    "plt.ylabel('Inflation Rate (%)')\n",
    "plt.title('Phillips Curve with Actual Inflation')\n",
    "plt.legend()\n",
    "plt.grid(True)\n",
    "plt.show()"
   ]
  },
  {
   "cell_type": "markdown",
   "metadata": {},
   "source": [
    "When looking at the regression above, we see that the regression fits the Phillips curve for months with an unemployement rate under 4.5 precentage.  For months with an unemployement rate over 4.5 percentage the regression show a positiv correlation between the unemployment rate and the actual inflation. Because of this the Phillips curve breaks down, hence the empirical finding suggests that the theory is wrong for the given period. "
   ]
  },
  {
   "cell_type": "markdown",
   "metadata": {},
   "source": [
    "# The New Keynesian Phillips Curve"
   ]
  },
  {
   "cell_type": "code",
   "execution_count": 20,
   "metadata": {},
   "outputs": [
    {
     "data": {
      "image/png": "[encoded data removed]",
      "text/plain": [
       "<Figure size 640x480 with 1 Axes>"
      ]
     },
     "metadata": {},
     "output_type": "display_data"
    }
   ],
   "source": [
    "# Choose a degree for polynomial fitting (same as before)\n",
    "degree = 2\n",
    "\n",
    "# Fit a polynomial regression model to the data\n",
    "coefficients = np.polyfit(final_dataset['unemployment'], final_dataset['fluctuation'], degree)\n",
    "polynomial = np.poly1d(coefficients)\n",
    "\n",
    "# Calculate the regression curve's y-values\n",
    "x_values = np.linspace(final_dataset['unemployment'].min(), final_dataset['unemployment'].max(), 100)\n",
    "y_poly = polynomial(x_values)\n",
    "\n",
    "# Create the scatter plot\n",
    "sns.scatterplot(x='unemployment', y='fluctuation', data=final_dataset)\n",
    "\n",
    "# Plot the polynomial regression line\n",
    "plt.plot(x_values, y_poly, color='red', label=f'Polynomial Degree {degree} Fit')\n",
    "\n",
    "# Add labels and title\n",
    "plt.xlabel('Unemployment Rate (%)')\n",
    "plt.ylabel('Fluctuation (percentage point)')\n",
    "plt.title('The New Keynesian Phillips Curve')\n",
    "plt.legend()\n",
    "plt.grid(True)\n",
    "plt.show()"
   ]
  },
  {
   "cell_type": "markdown",
   "metadata": {},
   "source": [
    "When looking at \"The New Keynesian Phillips Curve\" the correlation is negative when unemployment is under approx 4.5 percentages, which is the same as for the \"normal\" Phillips curve. After approx 4.5 percentages the correlation becomes positive, breaking the Phillips curve down. \n",
    "\n",
    "When comparing the two regressions the Phillips curve with actual inflation is closer to the expected results in the theory, than our New Keynesian Phillips Curve. This is due to the fact that the regression with actual inflation has a much stronger correlation between the two variables for months with an unemployement rate under approx 4.5 percentage. \n",
    "\n",
    "Since the New Keynesian Phillips Curve in mainstream economics is regarded as a superior Phillips curve, our assumption of the expected inflation being the inflation of the prior year is probably unrealistic. "
   ]
  },
  {
   "cell_type": "markdown",
   "metadata": {},
   "source": [
    "# Conclusion"
   ]
  },
  {
   "cell_type": "markdown",
   "metadata": {},
   "source": [
    "We find that the Phillips curve do not allign with empirical data in the period Denmark 2007-2023. We also find: \n",
    "- When unemployment is over approx 4.5 percentage it do not work. \n",
    "- The Phillips Curve with acutal inflation is better allign with theory than our New Keynesian Phillips Curve. This suggests that our assumption regarding expected inflation is probably wrong.\n",
    "- When unemployment is under approx 4.5 percentage, actual inflation in particular, is showing results alligning with the theory.  "
   ]
  }
 ],
 "metadata": {
  "kernelspec": {
   "display_name": "base",
   "language": "python",
   "name": "python3"
  },
  "language_info": {
   "codemirror_mode": {
    "name": "ipython",
    "version": 3
   },
   "file_extension": ".py",
   "mimetype": "text/x-python",
   "name": "python",
   "nbconvert_exporter": "python",
   "pygments_lexer": "ipython3",
   "version": "3.11.7"
  },
  "toc-autonumbering": true,
  "vscode": {
   "interpreter": {
    "hash": "47ef90cdf3004d3f859f1fb202523c65c07ba7c22eefd261b181f4744e2d0403"
   }
  }
 },
 "nbformat": 4,
 "nbformat_minor": 4
}
